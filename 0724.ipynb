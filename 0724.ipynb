{
 "cells": [
  {
   "cell_type": "code",
   "execution_count": 1,
   "id": "4d98d83d",
   "metadata": {},
   "outputs": [
    {
     "name": "stdout",
     "output_type": "stream",
     "text": [
      "even\n"
     ]
    }
   ],
   "source": [
    "#printing even nummber 1 to 50\n",
    "x=50\n",
    "y=2\n",
    "if (x%y)==0:\n",
    "    print('even')\n",
    "else:\n",
    "    print('odd')"
   ]
  },
  {
   "cell_type": "code",
   "execution_count": 7,
   "id": "5f21915d",
   "metadata": {},
   "outputs": [
    {
     "name": "stdout",
     "output_type": "stream",
     "text": [
      "1\n",
      "2\n",
      "3\n",
      "4\n",
      "5\n",
      "6\n",
      "7\n",
      "8\n",
      "9\n",
      "10\n",
      "11\n",
      "12\n",
      "13\n",
      "14\n",
      "15\n",
      "16\n",
      "17\n",
      "18\n",
      "19\n",
      "20\n",
      "21\n",
      "22\n",
      "23\n",
      "24\n",
      "25\n",
      "26\n",
      "27\n",
      "28\n",
      "29\n",
      "30\n",
      "31\n",
      "32\n",
      "33\n",
      "34\n",
      "35\n",
      "36\n",
      "37\n",
      "38\n",
      "39\n",
      "40\n",
      "41\n",
      "42\n",
      "43\n",
      "44\n",
      "45\n",
      "46\n",
      "47\n",
      "48\n",
      "49\n"
     ]
    }
   ],
   "source": [
    "for x in range(1,50):\n",
    "    print(x)"
   ]
  },
  {
   "cell_type": "code",
   "execution_count": 11,
   "id": "75c1b139",
   "metadata": {},
   "outputs": [
    {
     "name": "stdout",
     "output_type": "stream",
     "text": [
      "even\n"
     ]
    }
   ],
   "source": [
    "if (x%y)==0:\n",
    "    print('even')\n",
    "else:\n",
    "    print('odd')"
   ]
  },
  {
   "cell_type": "code",
   "execution_count": 24,
   "id": "814a1346",
   "metadata": {},
   "outputs": [
    {
     "name": "stdout",
     "output_type": "stream",
     "text": [
      "1\n",
      "3\n",
      "5\n",
      "7\n",
      "9\n",
      "11\n",
      "13\n",
      "15\n",
      "17\n",
      "19\n",
      "21\n",
      "23\n",
      "25\n",
      "27\n",
      "29\n",
      "31\n",
      "33\n",
      "35\n",
      "37\n",
      "39\n",
      "41\n",
      "43\n",
      "45\n",
      "47\n",
      "49\n"
     ]
    }
   ],
   "source": [
    "for i in range(1,50):\n",
    "    if (i%2)!=0:\n",
    "        print(i)"
   ]
  },
  {
   "cell_type": "code",
   "execution_count": 23,
   "id": "359853af",
   "metadata": {},
   "outputs": [
    {
     "name": "stdout",
     "output_type": "stream",
     "text": [
      "50\n",
      "47\n",
      "44\n",
      "41\n",
      "38\n",
      "35\n",
      "32\n",
      "29\n",
      "26\n",
      "23\n",
      "20\n",
      "17\n",
      "14\n",
      "11\n",
      "8\n",
      "5\n",
      "2\n"
     ]
    }
   ],
   "source": [
    "for i in range(50,0,-3):\n",
    "    print(i)\n"
   ]
  },
  {
   "cell_type": "code",
   "execution_count": 28,
   "id": "bf933c0a",
   "metadata": {},
   "outputs": [
    {
     "name": "stdout",
     "output_type": "stream",
     "text": [
      " input the number : 6\n",
      "15\n"
     ]
    }
   ],
   "source": [
    "sum = 0\n",
    "x = int(input(\" input the number : \"))\n",
    "for i in range(x):\n",
    "    sum = sum + i\n",
    "print(sum)"
   ]
  },
  {
   "cell_type": "code",
   "execution_count": 1,
   "id": "6567bfda",
   "metadata": {},
   "outputs": [
    {
     "name": "stdout",
     "output_type": "stream",
     "text": [
      "input the number : 10\n",
      "the result of sum if even number 25\n"
     ]
    }
   ],
   "source": [
    "sum = 0 \n",
    "x = int(input(\"input the number : \"))\n",
    "for i in range(x):\n",
    "    if (i%2)!=0:\n",
    "        sum=sum+i\n",
    "\n",
    "print(\"the result of sum if even number\",sum)\n",
    "        \n",
    "        "
   ]
  },
  {
   "cell_type": "code",
   "execution_count": 6,
   "id": "72e51efd",
   "metadata": {},
   "outputs": [
    {
     "name": "stdout",
     "output_type": "stream",
     "text": [
      "1 \n",
      "\n",
      "2 2 \n",
      "\n",
      "3 3 3 \n",
      "\n",
      "4 4 4 4 \n",
      "\n",
      "5 5 5 5 5 \n",
      "\n",
      "6 6 6 6 6 6 \n",
      "\n",
      "7 7 7 7 7 7 7 \n",
      "\n"
     ]
    }
   ],
   "source": [
    "for i in range(1,8) :\n",
    "    for j in range(i):\n",
    "        print(i,end=' ')\n",
    "    print(\"\\n\")"
   ]
  },
  {
   "cell_type": "code",
   "execution_count": 21,
   "id": "180f4d58",
   "metadata": {},
   "outputs": [
    {
     "name": "stdout",
     "output_type": "stream",
     "text": [
      "\n",
      "\n",
      "ANand \n",
      "\n",
      "ANand ANand \n",
      "\n",
      "ANand ANand ANand \n",
      "\n",
      "ANand ANand ANand ANand \n",
      "\n"
     ]
    }
   ],
   "source": [
    "for i in range(5) :\n",
    "    for j in range(i):\n",
    "        print(\"ANand\",end=\" \")\n",
    "    print(\"\\n\")"
   ]
  },
  {
   "cell_type": "code",
   "execution_count": 22,
   "id": "fc2c07af",
   "metadata": {},
   "outputs": [
    {
     "name": "stdout",
     "output_type": "stream",
     "text": [
      "1\n",
      "2\n",
      "3\n",
      "4\n",
      "5\n",
      "6\n",
      "7\n",
      "8\n",
      "9\n",
      "10\n"
     ]
    }
   ],
   "source": [
    "i = 1 \n",
    "while i<11:\n",
    "    print(i)\n",
    "    i=i+1"
   ]
  },
  {
   "cell_type": "code",
   "execution_count": 26,
   "id": "4e83a7db",
   "metadata": {},
   "outputs": [
    {
     "name": "stdout",
     "output_type": "stream",
     "text": [
      "enter the bill\n",
      "100\n",
      "enter  next  bill\n",
      "200\n",
      "enter  next  bill\n",
      "300\n",
      "enter  next  bill\n",
      "400\n",
      "enter  next  bill\n",
      "0\n",
      "sum  is 1000\n"
     ]
    }
   ],
   "source": [
    "print(\"enter the bill\")\n",
    "bill = int(input())\n",
    "sum = bill\n",
    "while bill!=0:\n",
    "    print(\"enter  next  bill\")\n",
    "    bill  = int(input())\n",
    "    sum=sum+bill\n",
    "print(\"sum  is\",sum)"
   ]
  },
  {
   "cell_type": "code",
   "execution_count": 6,
   "id": "7d5d4db7",
   "metadata": {},
   "outputs": [
    {
     "name": "stdout",
     "output_type": "stream",
     "text": [
      "select your candinate key:-,v=mr.alex \n",
      "            and m=mr.manum\n",
      "select your candinate key:-,v=mr.alex \n",
      "            and m=mr.manuv\n",
      "select your candinate key:-,v=mr.alex \n",
      "            and m=mr.manum\n",
      "select your candinate key:-,v=mr.alex \n",
      "            and m=mr.manuq\n",
      "Mr Manu win the vote and win by 2 vote\n",
      "Alex : 3\n",
      "Manu : 1\n"
     ]
    }
   ],
   "source": [
    "#this is the prrogram fdor voting  \n",
    "v=0\n",
    "m=0\n",
    "x =0\n",
    "while x != \"q\":\n",
    "    x=input(\"\"\"select your candinate key:-,v=mr.alex \n",
    "            and m=mr.manu\"\"\")\n",
    "    if x ==\"v\":\n",
    "        v=v+1\n",
    "    else:\n",
    "        m=m+1\n",
    "if m>v:\n",
    "    print(\"Mr Manu win the vote and win by \" + str(m-v) + \" vote\")\n",
    "else:\n",
    "    print(\"Mr. Alex win the the vote and win by \" + str(v-m) + \"vote\")\n",
    "\n",
    "\n",
    "print(\"Alex : \" + str(m))\n",
    "print(\"Manu : \" + str(v))\n",
    "\n"
   ]
  },
  {
   "cell_type": "code",
   "execution_count": 13,
   "id": "9a59a3df",
   "metadata": {},
   "outputs": [
    {
     "name": "stdout",
     "output_type": "stream",
     "text": [
      "enter the distance\n",
      "20\n",
      "enter time\n",
      "55\n",
      "speed is : 0.36363636363636365\n",
      "Do you want to conntiue?\n",
      "y\n",
      "enter the distance\n",
      "50\n",
      "enter time\n",
      "60\n",
      "speed is : 0.8333333333333334\n",
      "Do you want to conntiue?\n",
      "n\n"
     ]
    }
   ],
   "source": [
    "ch = \"y\"\n",
    "\n",
    "while ch!=\"n\":\n",
    "    print(\"enter the distance\")\n",
    "    dis=int(input())\n",
    "    if dis<0:\n",
    "        print(\"invalid distance\")\n",
    "        continue\n",
    "    print(\"enter time\")\n",
    "    t=int(input())\n",
    "    s=dis/t\n",
    "    print(\"speed is :\",s)\n",
    "    print(\"Do you want to conntiue?\")\n",
    "    ch=input()"
   ]
  },
  {
   "cell_type": "code",
   "execution_count": 15,
   "id": "b3734655",
   "metadata": {},
   "outputs": [
    {
     "name": "stdout",
     "output_type": "stream",
     "text": [
      "enter the merk\n",
      "-0.1\n"
     ]
    },
    {
     "ename": "ValueError",
     "evalue": "invalid literal for int() with base 10: '-0.1'",
     "output_type": "error",
     "traceback": [
      "\u001b[1;31m---------------------------------------------------------------------------\u001b[0m",
      "\u001b[1;31mValueError\u001b[0m                                Traceback (most recent call last)",
      "Cell \u001b[1;32mIn[15], line 5\u001b[0m\n\u001b[0;32m      3\u001b[0m \u001b[38;5;28;01mwhile\u001b[39;00m ch\u001b[38;5;241m!=\u001b[39m\u001b[38;5;124m\"\u001b[39m\u001b[38;5;124mn\u001b[39m\u001b[38;5;124m\"\u001b[39m:\n\u001b[0;32m      4\u001b[0m     \u001b[38;5;28mprint\u001b[39m(\u001b[38;5;124m\"\u001b[39m\u001b[38;5;124menter the merk\u001b[39m\u001b[38;5;124m\"\u001b[39m)\n\u001b[1;32m----> 5\u001b[0m     dis \u001b[38;5;241m=\u001b[39m \u001b[38;5;28mint\u001b[39m(\u001b[38;5;28minput\u001b[39m())\n\u001b[0;32m      6\u001b[0m     \u001b[38;5;28;01mif\u001b[39;00m dis\u001b[38;5;241m<\u001b[39m\u001b[38;5;241m0\u001b[39m:\n\u001b[0;32m      7\u001b[0m         \u001b[38;5;28mprint\u001b[39m(\u001b[38;5;124m\"\u001b[39m\u001b[38;5;124minvalid mark\u001b[39m\u001b[38;5;124m\"\u001b[39m)\n",
      "\u001b[1;31mValueError\u001b[0m: invalid literal for int() with base 10: '-0.1'"
     ]
    }
   ],
   "source": [
    "ch = \"y\"\n",
    "\n",
    "while ch!=\"n\":\n",
    "    print(\"enter the merk\")\n",
    "    dis = int(input())\n",
    "    if dis<0:\n",
    "        print(\"invalid mark\")\n",
    "        break\n",
    "        print(\"do you  want to continue?\")\n",
    "    ch = input()"
   ]
  },
  {
   "cell_type": "code",
   "execution_count": 16,
   "id": "b59b9b71",
   "metadata": {},
   "outputs": [
    {
     "name": "stdout",
     "output_type": "stream",
     "text": [
      "analtytics vidhya is the largest data science community over whole world\n"
     ]
    }
   ],
   "source": [
    "print(\"analtytics vidhya is the largest data science community over whole world\")"
   ]
  },
  {
   "cell_type": "code",
   "execution_count": 18,
   "id": "21af237d",
   "metadata": {},
   "outputs": [
    {
     "name": "stdout",
     "output_type": "stream",
     "text": [
      "<class 'tuple'>\n"
     ]
    }
   ],
   "source": [
    "list_of_fruits = ('apple','banana','cherry','mango')\n",
    "print(type(list_of_fruits))"
   ]
  },
  {
   "cell_type": "code",
   "execution_count": 19,
   "id": "7d4092f2",
   "metadata": {},
   "outputs": [
    {
     "name": "stdout",
     "output_type": "stream",
     "text": [
      "676\n"
     ]
    }
   ],
   "source": [
    "negative_number  = -676\n",
    "print(abs(negative_number))"
   ]
  },
  {
   "cell_type": "code",
   "execution_count": 20,
   "id": "5ec5df75",
   "metadata": {},
   "outputs": [
    {
     "name": "stdout",
     "output_type": "stream",
     "text": [
      "81\n"
     ]
    }
   ],
   "source": [
    "x=pow(3,4)\n",
    "print(x)"
   ]
  },
  {
   "cell_type": "code",
   "execution_count": 22,
   "id": "73a6c2e9",
   "metadata": {},
   "outputs": [
    {
     "name": "stdout",
     "output_type": "stream",
     "text": [
      "88\n"
     ]
    }
   ],
   "source": [
    "nearest_number=round(87.76432)\n",
    "print(nearest_number)"
   ]
  },
  {
   "cell_type": "code",
   "execution_count": null,
   "id": "0c6dac32",
   "metadata": {},
   "outputs": [],
   "source": []
  }
 ],
 "metadata": {
  "kernelspec": {
   "display_name": "Python 3 (ipykernel)",
   "language": "python",
   "name": "python3"
  },
  "language_info": {
   "codemirror_mode": {
    "name": "ipython",
    "version": 3
   },
   "file_extension": ".py",
   "mimetype": "text/x-python",
   "name": "python",
   "nbconvert_exporter": "python",
   "pygments_lexer": "ipython3",
   "version": "3.11.5"
  }
 },
 "nbformat": 4,
 "nbformat_minor": 5
}
