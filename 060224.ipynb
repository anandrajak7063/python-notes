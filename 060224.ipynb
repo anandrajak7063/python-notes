{
 "cells": [
  {
   "cell_type": "code",
   "execution_count": 1,
   "id": "2e3ffcf3",
   "metadata": {},
   "outputs": [],
   "source": [
    "x = 5"
   ]
  },
  {
   "cell_type": "code",
   "execution_count": 2,
   "id": "f3870484",
   "metadata": {},
   "outputs": [
    {
     "name": "stdout",
     "output_type": "stream",
     "text": [
      "5\n"
     ]
    }
   ],
   "source": [
    "print(x)"
   ]
  },
  {
   "cell_type": "code",
   "execution_count": 3,
   "id": "4ae17a0d",
   "metadata": {},
   "outputs": [],
   "source": [
    "x += 2"
   ]
  },
  {
   "cell_type": "code",
   "execution_count": 4,
   "id": "3aa68672",
   "metadata": {},
   "outputs": [
    {
     "name": "stdout",
     "output_type": "stream",
     "text": [
      "7\n"
     ]
    }
   ],
   "source": [
    "print(x)"
   ]
  },
  {
   "cell_type": "code",
   "execution_count": 5,
   "id": "0bfa636c",
   "metadata": {},
   "outputs": [
    {
     "name": "stdout",
     "output_type": "stream",
     "text": [
      "x*(x+1)*(x+2)\n"
     ]
    }
   ],
   "source": [
    "x = 3 \n",
    "evaluate = 'x*(x+1)*(x+2)'\n",
    "print(evaluate)"
   ]
  },
  {
   "cell_type": "code",
   "execution_count": 6,
   "id": "667d2cd4",
   "metadata": {},
   "outputs": [
    {
     "name": "stdout",
     "output_type": "stream",
     "text": [
      "<class 'str'>\n"
     ]
    }
   ],
   "source": [
    "print(type(evaluate))"
   ]
  },
  {
   "cell_type": "code",
   "execution_count": 7,
   "id": "03611678",
   "metadata": {},
   "outputs": [
    {
     "name": "stdout",
     "output_type": "stream",
     "text": [
      "<class 'int'>\n"
     ]
    }
   ],
   "source": [
    "print(type(x))"
   ]
  },
  {
   "cell_type": "code",
   "execution_count": 8,
   "id": "0f514690",
   "metadata": {},
   "outputs": [
    {
     "name": "stdout",
     "output_type": "stream",
     "text": [
      "60\n"
     ]
    }
   ],
   "source": [
    "expression = eval(evaluate)\n",
    "print(expression)"
   ]
  },
  {
   "cell_type": "code",
   "execution_count": 9,
   "id": "5c6be7c3",
   "metadata": {},
   "outputs": [
    {
     "name": "stdout",
     "output_type": "stream",
     "text": [
      "<class 'int'>\n"
     ]
    }
   ],
   "source": [
    "print(type(expression))"
   ]
  },
  {
   "cell_type": "code",
   "execution_count": 10,
   "id": "11c39bef",
   "metadata": {},
   "outputs": [
    {
     "name": "stdout",
     "output_type": "stream",
     "text": [
      "3\n"
     ]
    }
   ],
   "source": [
    "# left-right associativity\n",
    "#output : 3 \n",
    "print(5*2//3)"
   ]
  },
  {
   "cell_type": "code",
   "execution_count": 11,
   "id": "19e4e0dd",
   "metadata": {},
   "outputs": [
    {
     "name": "stdout",
     "output_type": "stream",
     "text": [
      "0\n"
     ]
    }
   ],
   "source": [
    "#shows left-right associativity\n",
    "#output=0\n",
    "print(5*(2//3))"
   ]
  },
  {
   "cell_type": "code",
   "execution_count": 12,
   "id": "8c799aee",
   "metadata": {},
   "outputs": [
    {
     "name": "stdout",
     "output_type": "stream",
     "text": [
      "512\n"
     ]
    }
   ],
   "source": [
    "#shows the right-left associativity of **\n",
    "#output : 512, since 2**(3**2) = 2**9\n",
    "print(2**3**2)"
   ]
  },
  {
   "cell_type": "code",
   "execution_count": 13,
   "id": "1fc613c8",
   "metadata": {},
   "outputs": [
    {
     "name": "stdout",
     "output_type": "stream",
     "text": [
      "64\n"
     ]
    }
   ],
   "source": [
    "#if 2 needs to be ex\n",
    "print((2**3)**2)"
   ]
  },
  {
   "cell_type": "code",
   "execution_count": 14,
   "id": "4374f757",
   "metadata": {},
   "outputs": [
    {
     "name": "stdout",
     "output_type": "stream",
     "text": [
      "enter age\n",
      "18\n"
     ]
    }
   ],
   "source": [
    "print(\"enter age\")\n",
    "a = int(input())\n",
    "if a>18:\n",
    "    print(\"can vote\")"
   ]
  },
  {
   "cell_type": "code",
   "execution_count": 23,
   "id": "178c5bce",
   "metadata": {},
   "outputs": [
    {
     "name": "stdout",
     "output_type": "stream",
     "text": [
      "enter age\n",
      "18\n",
      "same age\n"
     ]
    }
   ],
   "source": [
    "print(\"enter age\")\n",
    "a = int(input())\n",
    "if a>18:\n",
    "    print(\"can vote\")\n",
    "elif a<18 :\n",
    "    print(\"under age\")\n",
    "elif a==18:\n",
    "    print(\"same age\")"
   ]
  },
  {
   "cell_type": "code",
   "execution_count": 25,
   "id": "bdbcf89d",
   "metadata": {},
   "outputs": [
    {
     "name": "stdout",
     "output_type": "stream",
     "text": [
      "enter age\n",
      "18\n",
      "cannot vote\n"
     ]
    }
   ],
   "source": [
    "print(\"enter age\")\n",
    "a = int(input())\n",
    "if  a>18 :\n",
    "    print(\"can vaote\")\n",
    "else :\n",
    "    print(\"cannot vote\")"
   ]
  },
  {
   "cell_type": "code",
   "execution_count": 26,
   "id": "490c5da4",
   "metadata": {},
   "outputs": [
    {
     "ename": "NameError",
     "evalue": "name 'C' is not defined",
     "output_type": "error",
     "traceback": [
      "\u001b[1;31m---------------------------------------------------------------------------\u001b[0m",
      "\u001b[1;31mNameError\u001b[0m                                 Traceback (most recent call last)",
      "Cell \u001b[1;32mIn[26], line 4\u001b[0m\n\u001b[0;32m      2\u001b[0m b \u001b[38;5;241m=\u001b[39m \u001b[38;5;241m33\u001b[39m\n\u001b[0;32m      3\u001b[0m c \u001b[38;5;241m=\u001b[39m \u001b[38;5;241m500\u001b[39m\n\u001b[1;32m----> 4\u001b[0m \u001b[38;5;28;01mif\u001b[39;00m a\u001b[38;5;241m>\u001b[39mb \u001b[38;5;129;01mand\u001b[39;00m C\u001b[38;5;241m<\u001b[39ma :\n\u001b[0;32m      5\u001b[0m     \u001b[38;5;28mprint\u001b[39m(\u001b[38;5;124m\"\u001b[39m\u001b[38;5;124mboth conditions are True\u001b[39m\u001b[38;5;124m\"\u001b[39m)\n",
      "\u001b[1;31mNameError\u001b[0m: name 'C' is not defined"
     ]
    }
   ],
   "source": [
    "a = 200\n",
    "b = 33\n",
    "c = 500\n",
    "if a>b and C<a :\n",
    "    print(\"both conditions are True\")"
   ]
  },
  {
   "cell_type": "code",
   "execution_count": 29,
   "id": "422f99dc",
   "metadata": {},
   "outputs": [
    {
     "name": "stdout",
     "output_type": "stream",
     "text": [
      "both conditions are True\n"
     ]
    }
   ],
   "source": [
    "a=200\n",
    "b=33\n",
    "c=500\n",
    "if a>b and c>a:\n",
    "    print(\"both conditions are True\")"
   ]
  },
  {
   "cell_type": "code",
   "execution_count": 31,
   "id": "7388d46f",
   "metadata": {},
   "outputs": [
    {
     "ename": "IndentationError",
     "evalue": "expected an indented block after 'if' statement on line 4 (1964367631.py, line 5)",
     "output_type": "error",
     "traceback": [
      "\u001b[1;36m  Cell \u001b[1;32mIn[31], line 5\u001b[1;36m\u001b[0m\n\u001b[1;33m    else:\u001b[0m\n\u001b[1;37m    ^\u001b[0m\n\u001b[1;31mIndentationError\u001b[0m\u001b[1;31m:\u001b[0m expected an indented block after 'if' statement on line 4\n"
     ]
    }
   ],
   "source": [
    "a=200\n",
    "b=33\n",
    "c=500\n",
    "if a>b and c>a:\n",
    "else:\n",
    "    print(\"false\")"
   ]
  },
  {
   "cell_type": "code",
   "execution_count": 32,
   "id": "b14afed5",
   "metadata": {},
   "outputs": [
    {
     "name": "stdout",
     "output_type": "stream",
     "text": [
      "false\n"
     ]
    }
   ],
   "source": [
    "a=200\n",
    "b=33\n",
    "c=500\n",
    "if a>b and c<a:\n",
    "    print(\"both conditions are True\")\n",
    "else:\n",
    "    print(\"false\")"
   ]
  },
  {
   "cell_type": "code",
   "execution_count": 33,
   "id": "1e613230",
   "metadata": {},
   "outputs": [
    {
     "name": "stdout",
     "output_type": "stream",
     "text": [
      "True\n"
     ]
    }
   ],
   "source": [
    "a=200\n",
    "b=33\n",
    "c=500\n",
    "if a>b or c<a:\n",
    "    print(\"True\")\n",
    "else:\n",
    "    print(\"false\")"
   ]
  },
  {
   "cell_type": "code",
   "execution_count": 38,
   "id": "2e9e903d",
   "metadata": {},
   "outputs": [
    {
     "name": "stdout",
     "output_type": "stream",
     "text": [
      "but not above 20.\n"
     ]
    }
   ],
   "source": [
    "x=9\n",
    "if x>10:\n",
    "    print(\"above ten,\")\n",
    "    if x>20:\n",
    "        print(\"but also above 20!\")\n",
    "else:\n",
    "    print(\"but not above 20.\")\n",
    "    "
   ]
  },
  {
   "cell_type": "code",
   "execution_count": null,
   "id": "888d8ed9",
   "metadata": {},
   "outputs": [],
   "source": [
    "x = input(\"input your name \")\n",
    "eng = float(input(\"input your english subject no :\"))\n",
    "beng = float(input(\"input your benglai subject no :\"))\n",
    "sci = float ((input(\"input your science subject no :\"))\n",
    "math = float(input(\"input your math subject no :\")\n",
    "so_sci = float(input(\"input your social science subject no :\"))\n",
    "totaL_marks =eng+beng+sci+math+so_sci\n",
    "perc=(total_marks /5 )*100\n",
    "if perc>90 and perc<100:\n",
    "             print('a+')\n",
    "             \n",
    "\n",
    "\n"
   ]
  },
  {
   "cell_type": "code",
   "execution_count": null,
   "id": "ae561def",
   "metadata": {},
   "outputs": [],
   "source": [
    "x = input(\"input your name \")\n",
    "eng = float(input(\"input your english subject no :\"))\n",
    "beng = float(input(\"input your benglai subject no :\"))\n",
    "sci = float ((input(\"input your science subject no :\"))\n",
    "math = float(input(\"input your math subject no :\")\n",
    "so_sci = float(input(\"input your social science subject no :\"))\n",
    "totaL_marks =eng+beng+sci+math+so_sci\n",
    "perc=(total_marks /5 )*100\n",
    "if perc>90 and perc<100:\n",
    "             print('a+')\n",
    "            "
   ]
  },
  {
   "cell_type": "code",
   "execution_count": null,
   "id": "ee2cb874",
   "metadata": {},
   "outputs": [],
   "source": [
    "#taking student name\n",
    "x = input(\"input your name \")\n",
    "#taking student subject number\n",
    "eng = float(input(\"input your english subject no :\"))\n",
    "beng = float(input(\"input your benglai subject no :\"))\n",
    "sci = float ((input(\"input your science subject no :\"))\n",
    "math = float(input(\"input your math subject no :\")\n",
    "so_sci = float(input(\"input your social science subject no :\"))\n",
    "#calculate total marks         \n",
    "totaL_marks =eng+beng+sci+math+so_sci\n",
    "#calculate percentage             \n",
    "perc=(total_marks /5 )*100\n",
    "             \n",
    "if perc>90 and perc<100:\n",
    "             print(\"A+\")\n",
    "\n",
    "\n",
    "             "
   ]
  },
  {
   "cell_type": "code",
   "execution_count": 13,
   "id": "08794b9c",
   "metadata": {},
   "outputs": [
    {
     "name": "stdout",
     "output_type": "stream",
     "text": [
      "input your nameAnand\n",
      "input your english subject no :90\n",
      "input your bengali subject no :98\n",
      "input your science subject no :99\n",
      "input your math subject no :97\n",
      "input your social science subject no :96\n",
      "Anand total marks 480.0 percentage 96.0 grade is A+\n"
     ]
    }
   ],
   "source": [
    "#taking student name\n",
    "x = input(\"input your name\")\n",
    "#taking student subject number\n",
    "eng = float(input(\"input your english subject no :\"))\n",
    "ben = float(input(\"input your bengali subject no :\"))\n",
    "sci = float(input(\"input your science subject no :\"))\n",
    "math = float(input(\"input your math subject no :\"))\n",
    "s_sci = float(input(\"input your social science subject no :\"))\n",
    "#calculate total marks\n",
    "total_marks = eng + ben + sci + math + s_sci\n",
    "#calculate percentage\n",
    "per = (total_marks / 500)*100\n",
    "if per>90 and per<100 : \n",
    "    print( x+\" total marks \" + str( total_marks ) + \" percentage \"+str( per )+\" grade is \"+ \"A+\" )\n",
    "elif per>80 and per<89 :\n",
    "    print( x+\" total marks \" + str( total_marks ) + \" percentage \"+str( per )+\" grade is \"+\"A\" )\n",
    "elif per>70 and  per<79 :\n",
    "    print( x+\" total marks \" + str( total_marks ) + \" percentage \"+str( per )+\" grade is \"+\"B\" )\n",
    "elif per>60 and per<69 :\n",
    "    print( x+\" total marks \" + str( total_marks ) + \" percentage \"+str( per )+\" grade is \"+\"c\" )\n",
    "elif per<59 :\n",
    "    print( x+\" total marks \" + str( total_marks ) + \" percentage \"+str( per )+\" grade is \"+\"FAIL\" )"
   ]
  },
  {
   "cell_type": "code",
   "execution_count": null,
   "id": "badf6b5b",
   "metadata": {},
   "outputs": [],
   "source": [
    "print(per)"
   ]
  },
  {
   "cell_type": "code",
   "execution_count": 3,
   "id": "ada66583",
   "metadata": {},
   "outputs": [
    {
     "name": "stdout",
     "output_type": "stream",
     "text": [
      "253.0\n"
     ]
    }
   ],
   "source": [
    "print(total_marks)"
   ]
  },
  {
   "cell_type": "code",
   "execution_count": 22,
   "id": "196fc9d7",
   "metadata": {},
   "outputs": [
    {
     "name": "stdout",
     "output_type": "stream",
     "text": [
      "nummber of years1900\n",
      "475.0\n",
      "4.75\n",
      "1.1875\n"
     ]
    }
   ],
   "source": [
    "# leap year or not \n",
    "x = int(input(\"nummber of years\"))\n",
    "# taking formula first we divied with 4 \n",
    "x = (x/4)\n",
    "print(x)\n",
    "#then we check with 100\n",
    "y = (x/100)\n",
    "print(y)\n",
    "# then we check with 400\n",
    "z = (x/400)\n",
    "print(z)\n",
    "#we dont\n"
   ]
  },
  {
   "cell_type": "code",
   "execution_count": 24,
   "id": "7772e368",
   "metadata": {},
   "outputs": [
    {
     "name": "stdout",
     "output_type": "stream",
     "text": [
      "input year1900\n",
      "not a leap year\n"
     ]
    }
   ],
   "source": [
    "x=int(input(\"input year\"))\n",
    "if x%4==0 and x%400==0:\n",
    "    print(\"leap year\")\n",
    "else:\n",
    "    print(\"not a leap year\")"
   ]
  },
  {
   "cell_type": "code",
   "execution_count": 27,
   "id": "ad26ceb7",
   "metadata": {},
   "outputs": [
    {
     "name": "stdout",
     "output_type": "stream",
     "text": [
      "frozenset object is :  frozenset({1, 2, 3, 4, 5, 6, 7, 8, 9})\n"
     ]
    }
   ],
   "source": [
    "nu=(1,2,3,4,5,6,7,8,9,)   #tuple of number\n",
    "fnnum=frozenset(nu)       #converting tuple to frozenset\n",
    "print(\"frozenset object is : \", fnnum)    # printing details"
   ]
  },
  {
   "cell_type": "code",
   "execution_count": 29,
   "id": "1629e1b7",
   "metadata": {},
   "outputs": [
    {
     "name": "stdout",
     "output_type": "stream",
     "text": [
      "{'name': 'jax', 'age': 17}\n"
     ]
    }
   ],
   "source": [
    "dog = {\"name\":\"jax\",\"age\":17}\n",
    "print(dog)"
   ]
  },
  {
   "cell_type": "code",
   "execution_count": 31,
   "id": "7013b7f0",
   "metadata": {},
   "outputs": [],
   "source": [
    "dog={'name':'jax','age':15,'color':'brown'}"
   ]
  },
  {
   "cell_type": "code",
   "execution_count": 32,
   "id": "879b33bd",
   "metadata": {},
   "outputs": [
    {
     "name": "stdout",
     "output_type": "stream",
     "text": [
      "{'name': 'jax', 'age': 15, 'color': 'brown'}\n"
     ]
    }
   ],
   "source": [
    "print(dog)"
   ]
  },
  {
   "cell_type": "code",
   "execution_count": 33,
   "id": "074e9af1",
   "metadata": {},
   "outputs": [
    {
     "name": "stdout",
     "output_type": "stream",
     "text": [
      "{'name': 'jax', 'age': 15, 'color': 'brown', 'weight': 90}\n"
     ]
    }
   ],
   "source": [
    "dog['weight']=90\n",
    "print(dog)"
   ]
  },
  {
   "cell_type": "code",
   "execution_count": 34,
   "id": "4ba434ed",
   "metadata": {},
   "outputs": [
    {
     "name": "stdout",
     "output_type": "stream",
     "text": [
      "{'name': 'jax', 'age': 20, 'color': 'brown', 'weight': 90}\n"
     ]
    }
   ],
   "source": [
    "dog['age']=20\n",
    "print(dog)"
   ]
  },
  {
   "cell_type": "code",
   "execution_count": 35,
   "id": "1219c87d",
   "metadata": {},
   "outputs": [
    {
     "name": "stdout",
     "output_type": "stream",
     "text": [
      "4\n"
     ]
    }
   ],
   "source": [
    "print(len(dog))"
   ]
  },
  {
   "cell_type": "code",
   "execution_count": 36,
   "id": "f119ee6b",
   "metadata": {},
   "outputs": [
    {
     "name": "stdout",
     "output_type": "stream",
     "text": [
      "dict_keys(['name', 'age', 'color', 'weight'])\n"
     ]
    }
   ],
   "source": [
    "print(dog.keys())"
   ]
  },
  {
   "cell_type": "code",
   "execution_count": 37,
   "id": "e22165fc",
   "metadata": {},
   "outputs": [
    {
     "name": "stdout",
     "output_type": "stream",
     "text": [
      "dict_values(['jax', 20, 'brown', 90])\n"
     ]
    }
   ],
   "source": [
    "print(dog.values())"
   ]
  },
  {
   "cell_type": "code",
   "execution_count": 40,
   "id": "66672f47",
   "metadata": {},
   "outputs": [
    {
     "name": "stdout",
     "output_type": "stream",
     "text": [
      "dict_items([('name', 'jax'), ('age', 20), ('color', 'brown'), ('weight', 90)])\n"
     ]
    }
   ],
   "source": [
    "print(dog.items())"
   ]
  },
  {
   "cell_type": "code",
   "execution_count": 46,
   "id": "5f296c79",
   "metadata": {},
   "outputs": [
    {
     "name": "stdout",
     "output_type": "stream",
     "text": [
      "{'name': 'jax', 'age': 15, 'color': 'Brown', 'height': 6, 'weight': 90}\n"
     ]
    }
   ],
   "source": [
    "dog = {'name':'jax','age':15,'color':'Brown','height':6,'weight':90}\n",
    "print(dog)"
   ]
  },
  {
   "cell_type": "code",
   "execution_count": 47,
   "id": "853e471c",
   "metadata": {},
   "outputs": [
    {
     "data": {
      "text/plain": [
       "'Brown'"
      ]
     },
     "execution_count": 47,
     "metadata": {},
     "output_type": "execute_result"
    }
   ],
   "source": [
    "dog.pop('color')"
   ]
  },
  {
   "cell_type": "code",
   "execution_count": 48,
   "id": "81e3a844",
   "metadata": {},
   "outputs": [
    {
     "name": "stdout",
     "output_type": "stream",
     "text": [
      "{'name': 'jax', 'age': 15, 'height': 6, 'weight': 90}\n"
     ]
    }
   ],
   "source": [
    "print(dog)"
   ]
  },
  {
   "cell_type": "code",
   "execution_count": 49,
   "id": "8a62bf10",
   "metadata": {},
   "outputs": [
    {
     "data": {
      "text/plain": [
       "('weight', 90)"
      ]
     },
     "execution_count": 49,
     "metadata": {},
     "output_type": "execute_result"
    }
   ],
   "source": [
    "dog.popitem()"
   ]
  },
  {
   "cell_type": "code",
   "execution_count": 50,
   "id": "8e8eba85",
   "metadata": {},
   "outputs": [
    {
     "name": "stdout",
     "output_type": "stream",
     "text": [
      "{'name': 'jax', 'age': 15, 'height': 6}\n"
     ]
    }
   ],
   "source": [
    "print(dog)"
   ]
  },
  {
   "cell_type": "code",
   "execution_count": 53,
   "id": "28c30d4c",
   "metadata": {},
   "outputs": [
    {
     "ename": "KeyError",
     "evalue": "'age'",
     "output_type": "error",
     "traceback": [
      "\u001b[1;31m---------------------------------------------------------------------------\u001b[0m",
      "\u001b[1;31mKeyError\u001b[0m                                  Traceback (most recent call last)",
      "Cell \u001b[1;32mIn[53], line 1\u001b[0m\n\u001b[1;32m----> 1\u001b[0m \u001b[38;5;28;01mdel\u001b[39;00m dog[\u001b[38;5;124m'\u001b[39m\u001b[38;5;124mage\u001b[39m\u001b[38;5;124m'\u001b[39m]\n",
      "\u001b[1;31mKeyError\u001b[0m: 'age'"
     ]
    }
   ],
   "source": [
    "del dog['age']\n"
   ]
  },
  {
   "cell_type": "code",
   "execution_count": 54,
   "id": "11e494a9",
   "metadata": {},
   "outputs": [
    {
     "name": "stdout",
     "output_type": "stream",
     "text": [
      "{'name': 'jax', 'height': 6}\n"
     ]
    }
   ],
   "source": [
    "print(dog)\n"
   ]
  },
  {
   "cell_type": "code",
   "execution_count": 55,
   "id": "48c7382a",
   "metadata": {},
   "outputs": [],
   "source": [
    "dog.clear()"
   ]
  },
  {
   "cell_type": "code",
   "execution_count": 56,
   "id": "3d6b917d",
   "metadata": {},
   "outputs": [
    {
     "name": "stdout",
     "output_type": "stream",
     "text": [
      "{}\n"
     ]
    }
   ],
   "source": [
    "print(dog)"
   ]
  },
  {
   "cell_type": "code",
   "execution_count": 1,
   "id": "6f3786d7",
   "metadata": {},
   "outputs": [],
   "source": [
    "x=[1,2,3,4,5]"
   ]
  },
  {
   "cell_type": "code",
   "execution_count": 58,
   "id": "b67568ef",
   "metadata": {},
   "outputs": [
    {
     "name": "stdout",
     "output_type": "stream",
     "text": [
      "1\n"
     ]
    }
   ],
   "source": [
    "print(x[0])"
   ]
  },
  {
   "cell_type": "code",
   "execution_count": 59,
   "id": "0d526a92",
   "metadata": {},
   "outputs": [
    {
     "name": "stdout",
     "output_type": "stream",
     "text": [
      "2\n"
     ]
    }
   ],
   "source": [
    "print(x[1])"
   ]
  },
  {
   "cell_type": "code",
   "execution_count": 60,
   "id": "1e81f11e",
   "metadata": {},
   "outputs": [
    {
     "name": "stdout",
     "output_type": "stream",
     "text": [
      "3\n"
     ]
    }
   ],
   "source": [
    "print(x[2])"
   ]
  },
  {
   "cell_type": "code",
   "execution_count": 4,
   "id": "612b9713",
   "metadata": {},
   "outputs": [
    {
     "name": "stdout",
     "output_type": "stream",
     "text": [
      "1\n",
      "2\n",
      "3\n",
      "4\n",
      "5\n"
     ]
    }
   ],
   "source": [
    "for i in range(len(x)):\n",
    "    print(x[i])"
   ]
  },
  {
   "cell_type": "code",
   "execution_count": 5,
   "id": "4d57aba1",
   "metadata": {},
   "outputs": [
    {
     "ename": "SyntaxError",
     "evalue": "expected ':' (3416090220.py, line 1)",
     "output_type": "error",
     "traceback": [
      "\u001b[1;36m  Cell \u001b[1;32mIn[5], line 1\u001b[1;36m\u001b[0m\n\u001b[1;33m    for i in range(10)\u001b[0m\n\u001b[1;37m                      ^\u001b[0m\n\u001b[1;31mSyntaxError\u001b[0m\u001b[1;31m:\u001b[0m expected ':'\n"
     ]
    }
   ],
   "source": [
    "for i in range(10)\n"
   ]
  },
  {
   "cell_type": "code",
   "execution_count": 6,
   "id": "e1454e6c",
   "metadata": {},
   "outputs": [
    {
     "name": "stdout",
     "output_type": "stream",
     "text": [
      "ipcs\n"
     ]
    }
   ],
   "source": [
    "print(\"ipcs\")"
   ]
  },
  {
   "cell_type": "code",
   "execution_count": 9,
   "id": "994a89a8",
   "metadata": {},
   "outputs": [
    {
     "name": "stdout",
     "output_type": "stream",
     "text": [
      "ipcs\n",
      "ipcs\n",
      "ipcs\n",
      "ipcs\n",
      "ipcs\n",
      "ipcs\n",
      "ipcs\n",
      "ipcs\n",
      "ipcs\n",
      "ipcs\n"
     ]
    }
   ],
   "source": [
    "for i in range(10):\n",
    "    print(\"ipcs\")"
   ]
  },
  {
   "cell_type": "code",
   "execution_count": 10,
   "id": "bc2ae16f",
   "metadata": {},
   "outputs": [
    {
     "name": "stdout",
     "output_type": "stream",
     "text": [
      "0\n",
      "1\n",
      "2\n",
      "3\n",
      "4\n",
      "5\n",
      "6\n",
      "7\n",
      "8\n",
      "9\n"
     ]
    }
   ],
   "source": [
    "for i in range(10):\n",
    "    print(i)"
   ]
  },
  {
   "cell_type": "code",
   "execution_count": 11,
   "id": "5205a48a",
   "metadata": {},
   "outputs": [
    {
     "name": "stdout",
     "output_type": "stream",
     "text": [
      "1\n",
      "2\n",
      "3\n",
      "4\n",
      "5\n",
      "6\n",
      "7\n",
      "8\n",
      "9\n",
      "10\n"
     ]
    }
   ],
   "source": [
    "for i in range(1,11):\n",
    "    print(i)"
   ]
  },
  {
   "cell_type": "code",
   "execution_count": 12,
   "id": "975c0f47",
   "metadata": {},
   "outputs": [
    {
     "name": "stdout",
     "output_type": "stream",
     "text": [
      "10\n",
      "9\n",
      "8\n",
      "7\n",
      "6\n",
      "5\n",
      "4\n",
      "3\n",
      "2\n",
      "1\n"
     ]
    }
   ],
   "source": [
    "for i in range(10,0,-1):\n",
    "    print(i)"
   ]
  },
  {
   "cell_type": "code",
   "execution_count": 13,
   "id": "5233ac3d",
   "metadata": {},
   "outputs": [
    {
     "name": "stdout",
     "output_type": "stream",
     "text": [
      "50\n",
      "45\n",
      "40\n",
      "35\n",
      "30\n",
      "25\n",
      "20\n",
      "15\n",
      "10\n"
     ]
    }
   ],
   "source": [
    "for i in range(50,5,-5):\n",
    "    print(i)"
   ]
  },
  {
   "cell_type": "code",
   "execution_count": 14,
   "id": "77ea8b78",
   "metadata": {},
   "outputs": [
    {
     "name": "stdout",
     "output_type": "stream",
     "text": [
      "apple\n",
      "banana\n",
      "cheerry\n"
     ]
    }
   ],
   "source": [
    "fruits = ['apple','banana','cheerry']\n",
    "\n",
    "for i in fruits :\n",
    "    print(i)"
   ]
  },
  {
   "cell_type": "code",
   "execution_count": null,
   "id": "5772a6fd",
   "metadata": {},
   "outputs": [],
   "source": []
  }
 ],
 "metadata": {
  "kernelspec": {
   "display_name": "Python 3 (ipykernel)",
   "language": "python",
   "name": "python3"
  },
  "language_info": {
   "codemirror_mode": {
    "name": "ipython",
    "version": 3
   },
   "file_extension": ".py",
   "mimetype": "text/x-python",
   "name": "python",
   "nbconvert_exporter": "python",
   "pygments_lexer": "ipython3",
   "version": "3.11.5"
  }
 },
 "nbformat": 4,
 "nbformat_minor": 5
}
