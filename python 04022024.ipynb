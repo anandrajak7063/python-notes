{
 "cells": [
  {
   "cell_type": "code",
   "execution_count": 1,
   "id": "22b09ae3",
   "metadata": {},
   "outputs": [],
   "source": [
    "# ggfhgfh"
   ]
  },
  {
   "cell_type": "code",
   "execution_count": 2,
   "id": "a36939bb",
   "metadata": {},
   "outputs": [
    {
     "data": {
      "text/plain": [
       "'gfgfg\\nhghghgh\\nhhgjmhgj'"
      ]
     },
     "execution_count": 2,
     "metadata": {},
     "output_type": "execute_result"
    }
   ],
   "source": [
    "\"\"\"gfgfg\n",
    "hghghgh\n",
    "hhgjmhgj\"\"\""
   ]
  },
  {
   "cell_type": "code",
   "execution_count": 3,
   "id": "7a6882b7",
   "metadata": {},
   "outputs": [],
   "source": [
    "x=10"
   ]
  },
  {
   "cell_type": "code",
   "execution_count": 4,
   "id": "239220bd",
   "metadata": {},
   "outputs": [
    {
     "data": {
      "text/plain": [
       "int"
      ]
     },
     "execution_count": 4,
     "metadata": {},
     "output_type": "execute_result"
    }
   ],
   "source": [
    "type(x)"
   ]
  },
  {
   "cell_type": "code",
   "execution_count": 5,
   "id": "5655e14d",
   "metadata": {},
   "outputs": [],
   "source": [
    "y=2.3"
   ]
  },
  {
   "cell_type": "code",
   "execution_count": 6,
   "id": "29502b4d",
   "metadata": {},
   "outputs": [
    {
     "data": {
      "text/plain": [
       "float"
      ]
     },
     "execution_count": 6,
     "metadata": {},
     "output_type": "execute_result"
    }
   ],
   "source": [
    "type(y)"
   ]
  },
  {
   "cell_type": "code",
   "execution_count": 7,
   "id": "a0990657",
   "metadata": {},
   "outputs": [],
   "source": [
    "z=2+3j"
   ]
  },
  {
   "cell_type": "code",
   "execution_count": 8,
   "id": "cc369b76",
   "metadata": {},
   "outputs": [
    {
     "data": {
      "text/plain": [
       "complex"
      ]
     },
     "execution_count": 8,
     "metadata": {},
     "output_type": "execute_result"
    }
   ],
   "source": [
    "type(z)"
   ]
  },
  {
   "cell_type": "code",
   "execution_count": 9,
   "id": "33d2bc55",
   "metadata": {},
   "outputs": [],
   "source": [
    "x=\"hello python\""
   ]
  },
  {
   "cell_type": "code",
   "execution_count": 10,
   "id": "f699f1ec",
   "metadata": {},
   "outputs": [
    {
     "data": {
      "text/plain": [
       "str"
      ]
     },
     "execution_count": 10,
     "metadata": {},
     "output_type": "execute_result"
    }
   ],
   "source": [
    "type(x)"
   ]
  },
  {
   "cell_type": "code",
   "execution_count": 11,
   "id": "6ede0049",
   "metadata": {},
   "outputs": [],
   "source": [
    "a=True"
   ]
  },
  {
   "cell_type": "code",
   "execution_count": null,
   "id": "73cd2144",
   "metadata": {},
   "outputs": [],
   "source": []
  },
  {
   "cell_type": "code",
   "execution_count": 12,
   "id": "cfc79db6",
   "metadata": {},
   "outputs": [
    {
     "data": {
      "text/plain": [
       "bool"
      ]
     },
     "execution_count": 12,
     "metadata": {},
     "output_type": "execute_result"
    }
   ],
   "source": [
    "type(a)"
   ]
  },
  {
   "cell_type": "code",
   "execution_count": null,
   "id": "8719ec40",
   "metadata": {},
   "outputs": [],
   "source": []
  },
  {
   "cell_type": "markdown",
   "id": "1048e95a",
   "metadata": {},
   "source": [
    "#### gfgggvv\n",
    "fhfhgf"
   ]
  },
  {
   "cell_type": "code",
   "execution_count": 13,
   "id": "e9776434",
   "metadata": {},
   "outputs": [
    {
     "data": {
      "text/plain": [
       "str"
      ]
     },
     "execution_count": 13,
     "metadata": {},
     "output_type": "execute_result"
    }
   ],
   "source": [
    "b=\"1234\"\n",
    "type(b)"
   ]
  },
  {
   "cell_type": "code",
   "execution_count": null,
   "id": "5c39b2e8",
   "metadata": {},
   "outputs": [],
   "source": []
  },
  {
   "cell_type": "code",
   "execution_count": 14,
   "id": "30a3d662",
   "metadata": {},
   "outputs": [],
   "source": [
    "a=15\n",
    "b=3"
   ]
  },
  {
   "cell_type": "code",
   "execution_count": 15,
   "id": "abb1e7c7",
   "metadata": {},
   "outputs": [],
   "source": [
    "c=a+b"
   ]
  },
  {
   "cell_type": "code",
   "execution_count": 16,
   "id": "9baf2481",
   "metadata": {},
   "outputs": [
    {
     "name": "stdout",
     "output_type": "stream",
     "text": [
      "ssum is 18\n"
     ]
    }
   ],
   "source": [
    "print(\"ssum is\",c)"
   ]
  },
  {
   "cell_type": "code",
   "execution_count": 17,
   "id": "5cf9e2a8",
   "metadata": {},
   "outputs": [
    {
     "name": "stdout",
     "output_type": "stream",
     "text": [
      "difference is 12\n"
     ]
    }
   ],
   "source": [
    "c=a-b\n",
    "print(\"difference is\",c)"
   ]
  },
  {
   "cell_type": "code",
   "execution_count": 18,
   "id": "ebfaf850",
   "metadata": {},
   "outputs": [
    {
     "name": "stdout",
     "output_type": "stream",
     "text": [
      "product is 12\n"
     ]
    }
   ],
   "source": [
    "C=a*b\n",
    "print(\"product is\",c)"
   ]
  },
  {
   "cell_type": "code",
   "execution_count": 19,
   "id": "144913fd",
   "metadata": {},
   "outputs": [
    {
     "name": "stdout",
     "output_type": "stream",
     "text": [
      "quatientt is 5.0\n"
     ]
    }
   ],
   "source": [
    "c=a/b\n",
    "print(\"quatientt is\",c)"
   ]
  },
  {
   "cell_type": "code",
   "execution_count": 20,
   "id": "b5add28e",
   "metadata": {},
   "outputs": [
    {
     "name": "stdout",
     "output_type": "stream",
     "text": [
      "remainder is 0\n"
     ]
    }
   ],
   "source": [
    "c=a%b\n",
    "print(\"remainder is\",c)"
   ]
  },
  {
   "cell_type": "code",
   "execution_count": 21,
   "id": "d9de6ed4",
   "metadata": {},
   "outputs": [
    {
     "name": "stdout",
     "output_type": "stream",
     "text": [
      "power is 3375\n"
     ]
    }
   ],
   "source": [
    "c=a**b\n",
    "print(\"power is\",c)"
   ]
  },
  {
   "cell_type": "code",
   "execution_count": 22,
   "id": "cc9f03d5",
   "metadata": {},
   "outputs": [
    {
     "ename": "NameError",
     "evalue": "name 'bb' is not defined",
     "output_type": "error",
     "traceback": [
      "\u001b[1;31m---------------------------------------------------------------------------\u001b[0m",
      "\u001b[1;31mNameError\u001b[0m                                 Traceback (most recent call last)",
      "Cell \u001b[1;32mIn[22], line 1\u001b[0m\n\u001b[1;32m----> 1\u001b[0m c\u001b[38;5;241m=\u001b[39ma\u001b[38;5;241m/\u001b[39m\u001b[38;5;241m/\u001b[39mbb\n\u001b[0;32m      2\u001b[0m \u001b[38;5;28mprint\u001b[39m(\u001b[38;5;124m\"\u001b[39m\u001b[38;5;124mfloor division\u001b[39m\u001b[38;5;124m\"\u001b[39m,c)\n",
      "\u001b[1;31mNameError\u001b[0m: name 'bb' is not defined"
     ]
    }
   ],
   "source": [
    "c=a//b\n",
    "print(\"floor division\",c)"
   ]
  },
  {
   "cell_type": "code",
   "execution_count": 23,
   "id": "a001a342",
   "metadata": {},
   "outputs": [
    {
     "name": "stdout",
     "output_type": "stream",
     "text": [
      "ffloor division 5\n"
     ]
    }
   ],
   "source": [
    "c=a//b\n",
    "print(\"ffloor division\",c)"
   ]
  },
  {
   "cell_type": "code",
   "execution_count": 24,
   "id": "2a3a1039",
   "metadata": {},
   "outputs": [
    {
     "data": {
      "text/plain": [
       "4"
      ]
     },
     "execution_count": 24,
     "metadata": {},
     "output_type": "execute_result"
    }
   ],
   "source": [
    "14//3"
   ]
  },
  {
   "cell_type": "code",
   "execution_count": 25,
   "id": "1ad4cab2",
   "metadata": {},
   "outputs": [
    {
     "name": "stdout",
     "output_type": "stream",
     "text": [
      "enter your age24\n"
     ]
    }
   ],
   "source": [
    "a=input(\"enter your age\")"
   ]
  },
  {
   "cell_type": "code",
   "execution_count": 26,
   "id": "60cfa31c",
   "metadata": {},
   "outputs": [
    {
     "data": {
      "text/plain": [
       "str"
      ]
     },
     "execution_count": 26,
     "metadata": {},
     "output_type": "execute_result"
    }
   ],
   "source": [
    "type(a)"
   ]
  },
  {
   "cell_type": "code",
   "execution_count": 27,
   "id": "6a2678cb",
   "metadata": {},
   "outputs": [],
   "source": [
    "a=int(a)"
   ]
  },
  {
   "cell_type": "code",
   "execution_count": 28,
   "id": "2c14b7a3",
   "metadata": {},
   "outputs": [
    {
     "data": {
      "text/plain": [
       "int"
      ]
     },
     "execution_count": 28,
     "metadata": {},
     "output_type": "execute_result"
    }
   ],
   "source": [
    "type(a)"
   ]
  },
  {
   "cell_type": "code",
   "execution_count": 29,
   "id": "8efb7b1c",
   "metadata": {},
   "outputs": [
    {
     "name": "stdout",
     "output_type": "stream",
     "text": [
      "enter your nameanand\n"
     ]
    }
   ],
   "source": [
    "a=input(\"enter your name\")"
   ]
  },
  {
   "cell_type": "code",
   "execution_count": 30,
   "id": "1a7bf7b5",
   "metadata": {},
   "outputs": [
    {
     "name": "stdout",
     "output_type": "stream",
     "text": [
      "enter your nameanand\n",
      "enter your age24\n"
     ]
    }
   ],
   "source": [
    "a=input(\"enter your name\")\n",
    "b=input(\"enter your age\")"
   ]
  },
  {
   "cell_type": "code",
   "execution_count": 37,
   "id": "79b28ec4",
   "metadata": {},
   "outputs": [
    {
     "name": "stdout",
     "output_type": "stream",
     "text": [
      "enter first no : 2\n",
      "enter your second no: 4\n",
      "your result is 6.0\n"
     ]
    }
   ],
   "source": [
    "a=float(input(\"enter first no : \"))\n",
    "b=float(input(\"enter your second no: \"))\n",
    "c=a+b\n",
    "print(\"your result is\",c)"
   ]
  },
  {
   "cell_type": "code",
   "execution_count": 32,
   "id": "e76e18ec",
   "metadata": {},
   "outputs": [
    {
     "data": {
      "text/plain": [
       "'1020'"
      ]
     },
     "execution_count": 32,
     "metadata": {},
     "output_type": "execute_result"
    }
   ],
   "source": [
    "\"10\"+\"20\""
   ]
  },
  {
   "cell_type": "code",
   "execution_count": 38,
   "id": "00a6ac21",
   "metadata": {},
   "outputs": [
    {
     "name": "stdout",
     "output_type": "stream",
     "text": [
      "area of rectangle\n",
      "entet the length : 20\n",
      "enter the breath20\n",
      "your area is =  400.0\n"
     ]
    }
   ],
   "source": [
    "print(\"area of rectangle\")\n",
    "l=float(input('entet the length : '))\n",
    "b=float(input('enter the breath'))\n",
    "area=l*b\n",
    "print(\"your area is = \",area)"
   ]
  },
  {
   "cell_type": "code",
   "execution_count": 39,
   "id": "2a2d71f1",
   "metadata": {},
   "outputs": [
    {
     "name": "stdout",
     "output_type": "stream",
     "text": [
      "perimeter of rectangle\n",
      "enter the length : 20\n",
      "enter the breath : 20\n",
      "your perimeter is =  80.0\n"
     ]
    }
   ],
   "source": [
    "print(\"perimeter of rectangle\")\n",
    "l=float(input(\"enter the length : \"))\n",
    "b=float(input(\"enter the breath : \"))\n",
    "perimeter=2*(l+b)\n",
    "print(\"your perimeter is = \",perimeter)"
   ]
  },
  {
   "cell_type": "code",
   "execution_count": 40,
   "id": "267979e7",
   "metadata": {},
   "outputs": [
    {
     "name": "stdout",
     "output_type": "stream",
     "text": [
      "area of circle\n",
      "put the radius : 22\n",
      "thee area is  1521.142857142857\n"
     ]
    }
   ],
   "source": [
    "print(\"area of circle\")\n",
    "pi=22/7\n",
    "r=float(input(\"put the radius : \"))\n",
    "area=pi*r*r\n",
    "print(\"thee area is \",area)"
   ]
  },
  {
   "cell_type": "code",
   "execution_count": 42,
   "id": "5e9c4d0d",
   "metadata": {},
   "outputs": [
    {
     "name": "stdout",
     "output_type": "stream",
     "text": [
      "current date and time : \n",
      "2024-02-0513:07:09\n"
     ]
    }
   ],
   "source": [
    "import datetime\n",
    "now=datetime.datetime.now()\n",
    "print(\"current date and time : \")\n",
    "print(now.strftime(\"%Y-%m-%d%H:%M:%S\"))"
   ]
  },
  {
   "cell_type": "code",
   "execution_count": 43,
   "id": "78d7bf55",
   "metadata": {},
   "outputs": [
    {
     "name": "stdout",
     "output_type": "stream",
     "text": [
      "python verrsion\n",
      "3.11.5 | packaged by Anaconda, Inc. | (main, Sep 11 2023, 13:26:23) [MSC v.1916 64 bit (AMD64)]\n"
     ]
    }
   ],
   "source": [
    "import sys\n",
    "print(\"python verrsion\")\n",
    "print(sys.version)"
   ]
  },
  {
   "cell_type": "code",
   "execution_count": 44,
   "id": "a4c3a963",
   "metadata": {},
   "outputs": [],
   "source": [
    "import cmath"
   ]
  },
  {
   "cell_type": "code",
   "execution_count": 45,
   "id": "a12422cf",
   "metadata": {},
   "outputs": [],
   "source": [
    "a=2\n",
    "b=5\n",
    "c=-3"
   ]
  },
  {
   "cell_type": "code",
   "execution_count": 46,
   "id": "6337e7c1",
   "metadata": {},
   "outputs": [],
   "source": [
    "d = (b**2)-(4*a*c)"
   ]
  },
  {
   "cell_type": "code",
   "execution_count": 47,
   "id": "ea4aa7b7",
   "metadata": {},
   "outputs": [],
   "source": [
    "sol1=(-b-cmath.sqrt(d))/(2*a)"
   ]
  },
  {
   "cell_type": "code",
   "execution_count": 48,
   "id": "f6b10517",
   "metadata": {},
   "outputs": [
    {
     "name": "stdout",
     "output_type": "stream",
     "text": [
      "(-3+0j)\n"
     ]
    }
   ],
   "source": [
    "print(sol1)"
   ]
  },
  {
   "cell_type": "code",
   "execution_count": 50,
   "id": "f43776ba",
   "metadata": {},
   "outputs": [
    {
     "name": "stdout",
     "output_type": "stream",
     "text": [
      "(0.5+0j)\n"
     ]
    }
   ],
   "source": [
    "sol2=(-b+cmath.sqrt(d))/(2*a)\n",
    "print(sol2)"
   ]
  },
  {
   "cell_type": "code",
   "execution_count": null,
   "id": "1afa79a1",
   "metadata": {},
   "outputs": [],
   "source": []
  }
 ],
 "metadata": {
  "kernelspec": {
   "display_name": "Python 3 (ipykernel)",
   "language": "python",
   "name": "python3"
  },
  "language_info": {
   "codemirror_mode": {
    "name": "ipython",
    "version": 3
   },
   "file_extension": ".py",
   "mimetype": "text/x-python",
   "name": "python",
   "nbconvert_exporter": "python",
   "pygments_lexer": "ipython3",
   "version": "3.11.5"
  }
 },
 "nbformat": 4,
 "nbformat_minor": 5
}
