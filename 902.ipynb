{
 "cells": [
  {
   "cell_type": "code",
   "execution_count": 16,
   "id": "9a075463",
   "metadata": {},
   "outputs": [
    {
     "name": "stdout",
     "output_type": "stream",
     "text": [
      "enter a number\n",
      "42\n",
      "the  factorial of 42 is 1405006117752879898543142606244511569936384000000000\n"
     ]
    }
   ],
   "source": [
    "def factorial(x):\n",
    "    if x == 1:\n",
    "        return 1\n",
    "    else :\n",
    "        return (x * factorial(x-1))\n",
    "print(\"enter a number\")\n",
    "num= int(input())\n",
    "print(\"the  factorial of\", num,\"is\",factorial(num))"
   ]
  },
  {
   "cell_type": "code",
   "execution_count": 22,
   "id": "1457c5c0",
   "metadata": {},
   "outputs": [
    {
     "name": "stdout",
     "output_type": "stream",
     "text": [
      "enter a number\n",
      "20\n",
      "the factrial of 20 is 2432902008176640000\n"
     ]
    }
   ],
   "source": [
    "def factorial(x):\n",
    "    if x==1:\n",
    "        return 1\n",
    "    else:\n",
    "        return (x * factorial(x-1) )\n",
    "print(\"enter a number\")\n",
    "num = int(input())\n",
    "print(\"the factrial of\",num,\"is\",factorial(num))"
   ]
  },
  {
   "cell_type": "code",
   "execution_count": 25,
   "id": "057a5495",
   "metadata": {},
   "outputs": [
    {
     "name": "stdout",
     "output_type": "stream",
     "text": [
      "enter 2 numbers\n",
      "2\n",
      "4\n",
      "sum  is  6\n"
     ]
    }
   ],
   "source": [
    "def sum():\n",
    "    print(\"enter 2 numbers\")\n",
    "    a= int(input())\n",
    "    b=int(input())\n",
    "    s=a+b\n",
    "    print(\"sum  is \",s)\n",
    "sum()"
   ]
  },
  {
   "cell_type": "code",
   "execution_count": 27,
   "id": "a01ed3b1",
   "metadata": {},
   "outputs": [
    {
     "name": "stdout",
     "output_type": "stream",
     "text": [
      "enter 2 number\n",
      "2\n",
      "2\n",
      "sum is 4\n"
     ]
    }
   ],
   "source": [
    "def sum(a,b):\n",
    "    s=a+b\n",
    "    print(\"sum is\",s)\n",
    "print(\"enter 2 number\")\n",
    "a=int(input())\n",
    "b=int(input())\n",
    "sum(a,b)"
   ]
  },
  {
   "cell_type": "code",
   "execution_count": 29,
   "id": "40708aef",
   "metadata": {},
   "outputs": [
    {
     "name": "stdout",
     "output_type": "stream",
     "text": [
      "enter 2 numbbers\n",
      "2\n",
      "2\n",
      "sum is 4\n"
     ]
    }
   ],
   "source": [
    "def sum():\n",
    "    print(\"enter 2 numbbers\")\n",
    "    a = int(input())\n",
    "    b = int(input())\n",
    "    s = a + b\n",
    "    return s\n",
    "\n",
    "c = sum()\n",
    "print(\"sum is\",c)"
   ]
  },
  {
   "cell_type": "code",
   "execution_count": 30,
   "id": "1643f878",
   "metadata": {},
   "outputs": [
    {
     "name": "stdout",
     "output_type": "stream",
     "text": [
      "enter 2 numbers\n",
      "25\n",
      "25\n",
      "sum is 50\n"
     ]
    }
   ],
   "source": [
    "def sum(a,b):\n",
    "    \n",
    "    s=a + b\n",
    "    return s\n",
    "\n",
    "print(\"enter 2 numbers\")\n",
    "a=int(input())\n",
    "b=int(input())\n",
    "c=sum(a,b)\n",
    "print(\"sum is\",c  )"
   ]
  },
  {
   "cell_type": "code",
   "execution_count": 33,
   "id": "0e7a437c",
   "metadata": {},
   "outputs": [
    {
     "ename": "IndentationError",
     "evalue": "unindent does not match any outer indentation level (<tokenize>, line 3)",
     "output_type": "error",
     "traceback": [
      "\u001b[1;36m  File \u001b[1;32m<tokenize>:3\u001b[1;36m\u001b[0m\n\u001b[1;33m    a= int(input())\u001b[0m\n\u001b[1;37m    ^\u001b[0m\n\u001b[1;31mIndentationError\u001b[0m\u001b[1;31m:\u001b[0m unindent does not match any outer indentation level\n"
     ]
    }
   ],
   "source": [
    "def sum():\n",
    "     print(\"enter 2 numbers\")\n",
    "    a= int(input())\n",
    "    b=int(input())\n",
    "    s=a+b\n",
    "    print(\"sum  is \",s)\n",
    "def adsum()\n",
    " print(\"enter 2 numbers\")\n",
    "    a= int(input())\n",
    "    b=int(input())\n",
    "    s=c*d\n",
    "    print(\"sum  is \",s)\n",
    "sum()\n",
    " print(\"enter 2 numbers\")\n",
    "    a= int(input())\n",
    "    b=int(input())\n",
    "    s=e/f\n",
    "    print(\"sum  is \",s)\n",
    "sum()"
   ]
  },
  {
   "cell_type": "code",
   "execution_count": 56,
   "id": "cccda111",
   "metadata": {},
   "outputs": [
    {
     "name": "stdout",
     "output_type": "stream",
     "text": [
      "simple  calculator\n",
      "select opration\n",
      " 1 add\n",
      "2 substraction\n",
      "3 multiply\n",
      "4 divied\n",
      "5 exit\n",
      "enter choice 1/2/3/4/51\n",
      "enterr the first numbeer2\n",
      "enter  the second number3\n",
      "2.03.0=5.0\n",
      "select opration\n",
      " 1 add\n",
      "2 substraction\n",
      "3 multiply\n",
      "4 divied\n",
      "5 exit\n",
      "enter choice 1/2/3/4/55\n",
      "exit\n"
     ]
    }
   ],
   "source": [
    "def add(x,y):\n",
    "    return x+y\n",
    "\n",
    "def substraction(x,y):\n",
    "    return x-y\n",
    "\n",
    "def multiply(x,y):\n",
    "    return x*y\n",
    "\n",
    "def divied(x,y):\n",
    "    if y!=0:\n",
    "        return x/y\n",
    "    else:\n",
    "        return 'cannot divied by zero!'\n",
    "print(\"simple  calculator\")\n",
    "\n",
    "while True:\n",
    "    #user input for choice of opration.\n",
    "    print(\"select opration\")\n",
    "    print(\" 1 add\")\n",
    "    print(\"2 substraction\")\n",
    "    print(\"3 multiply\")\n",
    "    print(\"4 divied\")\n",
    "    print(\"5 exit\")\n",
    "    choice=input(\"enter choice 1/2/3/4/5\")\n",
    "    if choice  ==\"5\":\n",
    "        print(\"exit\")\n",
    "        break\n",
    "#user input for numbers\n",
    "\n",
    "    num1=float(input(\"enterr the first numbeer\"))\n",
    "    num2=float(input(\"enter  the second number\"))\n",
    "\n",
    "#perform the selected operation\n",
    "\n",
    "    if choice ==\"1\":\n",
    "        result = add(num1,num2)\n",
    "\n",
    "    elif choice ==\"2\":\n",
    "        result = substraction(num1,num2)\n",
    "\n",
    "    elif choice ==\"3\":\n",
    "        result = multiply(num1,num2)\n",
    "\n",
    "    elif choice ==\"4\":\n",
    "        result = divied(num1,num2)\n",
    "    else:\n",
    "        print(\"invalied input, please  enter  a valid choice \")\n",
    "        continue\n",
    "#display the result\n",
    "\n",
    "    print(f\"{num1}{num2}={result}\")\n",
    "\n",
    "    "
   ]
  },
  {
   "cell_type": "code",
   "execution_count": 1,
   "id": "663738e5",
   "metadata": {},
   "outputs": [
    {
     "name": "stdout",
     "output_type": "stream",
     "text": [
      "300\n"
     ]
    }
   ],
   "source": [
    "def myfunc():\n",
    "    x=300\n",
    "    print(x)\n",
    "myfunc()\n",
    "\n"
   ]
  },
  {
   "cell_type": "code",
   "execution_count": 2,
   "id": "ebb166b8",
   "metadata": {},
   "outputs": [
    {
     "ename": "NameError",
     "evalue": "name 'x' is not defined",
     "output_type": "error",
     "traceback": [
      "\u001b[1;31m---------------------------------------------------------------------------\u001b[0m",
      "\u001b[1;31mNameError\u001b[0m                                 Traceback (most recent call last)",
      "Cell \u001b[1;32mIn[2], line 1\u001b[0m\n\u001b[1;32m----> 1\u001b[0m \u001b[38;5;28mprint\u001b[39m(x)\n",
      "\u001b[1;31mNameError\u001b[0m: name 'x' is not defined"
     ]
    }
   ],
   "source": [
    "print(x)"
   ]
  },
  {
   "cell_type": "code",
   "execution_count": 63,
   "id": "9ff214ef",
   "metadata": {},
   "outputs": [
    {
     "name": "stdout",
     "output_type": "stream",
     "text": [
      "300\n"
     ]
    }
   ],
   "source": [
    "def myfunc9():\n",
    "    x=300\n",
    "    def myinnefunc():\n",
    "        print(x)\n",
    "    myinnerrfunc()\n",
    "myfunc()\n",
    "        "
   ]
  },
  {
   "cell_type": "code",
   "execution_count": 3,
   "id": "c7a58d0f",
   "metadata": {},
   "outputs": [
    {
     "name": "stdout",
     "output_type": "stream",
     "text": [
      "300\n"
     ]
    }
   ],
   "source": [
    "x=300\n",
    "def myfunc():\n",
    "    print(x)\n",
    "myfunc()\n"
   ]
  },
  {
   "cell_type": "code",
   "execution_count": 4,
   "id": "fc2f3cb4",
   "metadata": {},
   "outputs": [
    {
     "name": "stdout",
     "output_type": "stream",
     "text": [
      "300\n"
     ]
    }
   ],
   "source": [
    "print(x)"
   ]
  },
  {
   "cell_type": "code",
   "execution_count": 8,
   "id": "6269421a",
   "metadata": {},
   "outputs": [
    {
     "name": "stdout",
     "output_type": "stream",
     "text": [
      "300\n"
     ]
    }
   ],
   "source": [
    "def myfunc():\n",
    "    global y\n",
    "    y=300\n",
    "    print(y)\n",
    "myfunc()\n",
    "   "
   ]
  },
  {
   "cell_type": "code",
   "execution_count": 11,
   "id": "085bc357",
   "metadata": {},
   "outputs": [
    {
     "name": "stdout",
     "output_type": "stream",
     "text": [
      "300\n"
     ]
    }
   ],
   "source": [
    "print(y)\n"
   ]
  },
  {
   "cell_type": "code",
   "execution_count": 12,
   "id": "bab3761b",
   "metadata": {},
   "outputs": [
    {
     "name": "stdout",
     "output_type": "stream",
     "text": [
      "15\n"
     ]
    }
   ],
   "source": [
    "x=lambda  a:a +  10\n",
    "print(x(5))"
   ]
  },
  {
   "cell_type": "code",
   "execution_count": 13,
   "id": "02482a16",
   "metadata": {},
   "outputs": [
    {
     "name": "stdout",
     "output_type": "stream",
     "text": [
      "30\n"
     ]
    }
   ],
   "source": [
    "x =  lambda a,b : a*b\n",
    "print(x(5,6))"
   ]
  },
  {
   "cell_type": "code",
   "execution_count": 14,
   "id": "51b65f5e",
   "metadata": {},
   "outputs": [
    {
     "name": "stdout",
     "output_type": "stream",
     "text": [
      "13\n"
     ]
    }
   ],
   "source": [
    "x=lambda a,b,c : a + b + c\n",
    "print(x(5,6,2))"
   ]
  },
  {
   "cell_type": "code",
   "execution_count": null,
   "id": "dd20d19a",
   "metadata": {},
   "outputs": [
    {
     "name": "stdout",
     "output_type": "stream",
     "text": [
      "Select operation:\n",
      "1. Add\n",
      "2. Subtract\n",
      "3. Multiply\n",
      "4. Divide\n",
      "Enter choice (1/2/3/4): 1\n",
      "Enter first number: 2\n",
      "Enter second number: 2\n",
      "Result: 4.0\n",
      "Enter choice (1/2/3/4): 5\n",
      "Invalid input\n"
     ]
    }
   ],
   "source": [
    "def add(x, y):\n",
    "    \"\"\"Function to add two numbers\"\"\"\n",
    "    return x + y\n",
    "\n",
    "def subtract(x, y):\n",
    "    \"\"\"Function to subtract two numbers\"\"\"\n",
    "    return x - y\n",
    "\n",
    "def multiply(x, y):\n",
    "    \"\"\"Function to multiply two numbers\"\"\"\n",
    "    return x * y\n",
    "\n",
    "def divide(x, y):\n",
    "    \"\"\"Function to divide two numbers\"\"\"\n",
    "    if y == 0:\n",
    "        return \"Error! Division by zero.\"\n",
    "    else:\n",
    "        return x / y\n",
    "\n",
    "print(\"Select operation:\")\n",
    "print(\"1. Add\")\n",
    "print(\"2. Subtract\")\n",
    "print(\"3. Multiply\")\n",
    "print(\"4. Divide\")\n",
    "\n",
    "while True:\n",
    "    choice = input(\"Enter choice (1/2/3/4): \")\n",
    "\n",
    "    if choice in ('1', '2', '3', '4'):\n",
    "        num1 = float(input(\"Enter first number: \"))\n",
    "        num2 = float(input(\"Enter second number: \"))\n",
    "\n",
    "        if choice == '1':\n",
    "            print(\"Result:\", add(num1, num2))\n",
    "        elif choice == '2':\n",
    "            print(\"Result:\", subtract(num1, num2))\n",
    "        elif choice == '3':\n",
    "            print(\"Result:\", multiply(num1, num2))\n",
    "        elif choice == '4':\n",
    "            print(\"Result:\", divide(num1, num2))\n",
    "    else:\n",
    "        print(\"Invalid input\")\n"
   ]
  },
  {
   "cell_type": "code",
   "execution_count": null,
   "id": "0deeecbf",
   "metadata": {},
   "outputs": [],
   "source": []
  }
 ],
 "metadata": {
  "kernelspec": {
   "display_name": "Python 3 (ipykernel)",
   "language": "python",
   "name": "python3"
  },
  "language_info": {
   "codemirror_mode": {
    "name": "ipython",
    "version": 3
   },
   "file_extension": ".py",
   "mimetype": "text/x-python",
   "name": "python",
   "nbconvert_exporter": "python",
   "pygments_lexer": "ipython3",
   "version": "3.11.5"
  }
 },
 "nbformat": 4,
 "nbformat_minor": 5
}
