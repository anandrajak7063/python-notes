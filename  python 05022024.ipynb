{
 "cells": [
  {
   "cell_type": "code",
   "execution_count": 3,
   "id": "77ec2695",
   "metadata": {},
   "outputs": [
    {
     "name": "stdout",
     "output_type": "stream",
     "text": [
      "perimeter of circle\n",
      "put the radius of circle : 22\n",
      "perimeteer  of circle :  138.28571428571428\n"
     ]
    }
   ],
   "source": [
    "print(\"perimeter of circle\")\n",
    "pi=22/7\n",
    "r=float(input(\"put the radius of circle : \"))\n",
    "per=2*pi*r\n",
    "print(\"perimeteer  of circle : \",per)\n",
    "\n"
   ]
  },
  {
   "cell_type": "code",
   "execution_count": 4,
   "id": "49641dd9",
   "metadata": {},
   "outputs": [
    {
     "data": {
      "text/plain": [
       "'fooGEE'"
      ]
     },
     "execution_count": 4,
     "metadata": {},
     "output_type": "execute_result"
    }
   ],
   "source": [
    "s=\"foo\"\n",
    "t=\"GEE\"\n",
    "u=\"tee\"\n",
    "s+t\n"
   ]
  },
  {
   "cell_type": "code",
   "execution_count": 5,
   "id": "6c23b53e",
   "metadata": {},
   "outputs": [
    {
     "data": {
      "text/plain": [
       "'fooGEEtee'"
      ]
     },
     "execution_count": 5,
     "metadata": {},
     "output_type": "execute_result"
    }
   ],
   "source": [
    "s+t+u"
   ]
  },
  {
   "cell_type": "code",
   "execution_count": 7,
   "id": "75c0cca5",
   "metadata": {},
   "outputs": [
    {
     "name": "stdout",
     "output_type": "stream",
     "text": [
      "go team !!!\n"
     ]
    }
   ],
   "source": [
    "print(\"go team \" + \"!!!\")"
   ]
  },
  {
   "cell_type": "code",
   "execution_count": 8,
   "id": "9fcd797a",
   "metadata": {},
   "outputs": [
    {
     "data": {
      "text/plain": [
       "'youyouyouyou'"
      ]
     },
     "execution_count": 8,
     "metadata": {},
     "output_type": "execute_result"
    }
   ],
   "source": [
    "s=\"you\"\n",
    "s*4"
   ]
  },
  {
   "cell_type": "code",
   "execution_count": 9,
   "id": "0a186bee",
   "metadata": {},
   "outputs": [
    {
     "data": {
      "text/plain": [
       "'youyouyouyou'"
      ]
     },
     "execution_count": 9,
     "metadata": {},
     "output_type": "execute_result"
    }
   ],
   "source": [
    "4*s"
   ]
  },
  {
   "cell_type": "code",
   "execution_count": 11,
   "id": "fcc7f0c0",
   "metadata": {},
   "outputs": [
    {
     "data": {
      "text/plain": [
       "True"
      ]
     },
     "execution_count": 11,
     "metadata": {},
     "output_type": "execute_result"
    }
   ],
   "source": [
    "s= \"foo\"\n",
    "s in \"that\\\"s foor for thought.\""
   ]
  },
  {
   "cell_type": "code",
   "execution_count": 12,
   "id": "266d913f",
   "metadata": {},
   "outputs": [
    {
     "data": {
      "text/plain": [
       "False"
      ]
     },
     "execution_count": 12,
     "metadata": {},
     "output_type": "execute_result"
    }
   ],
   "source": [
    "s in\"that \\ s good for now.\""
   ]
  },
  {
   "cell_type": "code",
   "execution_count": 13,
   "id": "88998e48",
   "metadata": {},
   "outputs": [
    {
     "data": {
      "text/plain": [
       "103"
      ]
     },
     "execution_count": 13,
     "metadata": {},
     "output_type": "execute_result"
    }
   ],
   "source": [
    "ord(\"g\")"
   ]
  },
  {
   "cell_type": "code",
   "execution_count": 14,
   "id": "650d9f74",
   "metadata": {},
   "outputs": [
    {
     "data": {
      "text/plain": [
       "'g'"
      ]
     },
     "execution_count": 14,
     "metadata": {},
     "output_type": "execute_result"
    }
   ],
   "source": [
    "chr(103)"
   ]
  },
  {
   "cell_type": "code",
   "execution_count": 37,
   "id": "232d26fe",
   "metadata": {},
   "outputs": [],
   "source": [
    "s=\"aNand rajak\""
   ]
  },
  {
   "cell_type": "code",
   "execution_count": 17,
   "id": "2401b06e",
   "metadata": {},
   "outputs": [
    {
     "data": {
      "text/plain": [
       "5"
      ]
     },
     "execution_count": 17,
     "metadata": {},
     "output_type": "execute_result"
    }
   ],
   "source": [
    "len(s)"
   ]
  },
  {
   "cell_type": "code",
   "execution_count": 22,
   "id": "362dca96",
   "metadata": {},
   "outputs": [
    {
     "name": "stdout",
     "output_type": "stream",
     "text": [
      " you have done good job \n"
     ]
    }
   ],
   "source": [
    "s1=\" you\"\n",
    "s2=\"have\"\n",
    "s3=\"done\"\n",
    "s4=\"good job\"\n",
    "print( s1 +\" \" + s2 +\" \"+ s3 +\" \"+ s4 +\" \")"
   ]
  },
  {
   "cell_type": "code",
   "execution_count": 31,
   "id": "0836b587",
   "metadata": {},
   "outputs": [
    {
     "name": "stdout",
     "output_type": "stream",
     "text": [
      "only first letter in capital : \n",
      "anand\n"
     ]
    }
   ],
   "source": [
    "print(\"only first letter in capital : \")\n",
    "print(s.lower())"
   ]
  },
  {
   "cell_type": "code",
   "execution_count": 32,
   "id": "fa1fa43c",
   "metadata": {},
   "outputs": [
    {
     "name": "stdout",
     "output_type": "stream",
     "text": [
      "only first letter in capital : \n",
      "ANAND\n"
     ]
    }
   ],
   "source": [
    "print(\"only first letter in capital : \")\n",
    "print(s.upper())"
   ]
  },
  {
   "cell_type": "code",
   "execution_count": 38,
   "id": "d46dcf39",
   "metadata": {},
   "outputs": [
    {
     "name": "stdout",
     "output_type": "stream",
     "text": [
      "convert first letter of each word into capital : \n",
      "Anand Rajak\n"
     ]
    }
   ],
   "source": [
    "print(\"convert first letter of each word into capital : \")\n",
    "print(s.title())"
   ]
  },
  {
   "cell_type": "code",
   "execution_count": 39,
   "id": "44ef645b",
   "metadata": {},
   "outputs": [
    {
     "name": "stdout",
     "output_type": "stream",
     "text": [
      "only first letter in capital:\n",
      "Anand rajak\n"
     ]
    }
   ],
   "source": [
    "print(\"only first letter in capital:\")\n",
    "print(s.capitalize())"
   ]
  },
  {
   "cell_type": "code",
   "execution_count": 40,
   "id": "535cee99",
   "metadata": {},
   "outputs": [
    {
     "name": "stdout",
     "output_type": "stream",
     "text": [
      "printing the string : \n",
      "we are here to learn python frow IPCS\n"
     ]
    }
   ],
   "source": [
    "s=\"we are here to learn python frow IPCS\"\n",
    "print(\"printing the string : \")\n",
    "print(s)"
   ]
  },
  {
   "cell_type": "code",
   "execution_count": 49,
   "id": "c58d86d7",
   "metadata": {},
   "outputs": [
    {
     "name": "stdout",
     "output_type": "stream",
     "text": [
      "replacing python to string\n",
      "we are here to learn string frow IPCS\n"
     ]
    }
   ],
   "source": [
    "print(\"replacing python to string\")\n",
    "print(s.replace(\"python\",\"string\"))\n"
   ]
  },
  {
   "cell_type": "code",
   "execution_count": 45,
   "id": "e9628947",
   "metadata": {},
   "outputs": [
    {
     "name": "stdout",
     "output_type": "stream",
     "text": [
      "counting the characters\n",
      "0\n"
     ]
    }
   ],
   "source": [
    "print(\"counting the characters\")\n",
    "print(s.count(\"s\"))"
   ]
  },
  {
   "cell_type": "code",
   "execution_count": 50,
   "id": "4b8fe397",
   "metadata": {},
   "outputs": [
    {
     "name": "stdout",
     "output_type": "stream",
     "text": [
      "printing the string.\n",
      "we are here to learn python from IPCS\n"
     ]
    }
   ],
   "source": [
    "s=\"we are here to learn python from IPCS\"\n",
    "print(\"printing the string.\")\n",
    "print(s)"
   ]
  },
  {
   "cell_type": "code",
   "execution_count": 52,
   "id": "d8fc6d85",
   "metadata": {},
   "outputs": [
    {
     "name": "stdout",
     "output_type": "stream",
     "text": [
      "ending with\n",
      "False\n"
     ]
    }
   ],
   "source": [
    "print(\"ending with\")\n",
    "print(s.endswith(\"s\"))"
   ]
  },
  {
   "cell_type": "code",
   "execution_count": 54,
   "id": "aae01ad5",
   "metadata": {},
   "outputs": [
    {
     "name": "stdout",
     "output_type": "stream",
     "text": [
      "starts with\n",
      "True\n"
     ]
    }
   ],
   "source": [
    "print(\"starts with\")\n",
    "print(s.startswith(\"w\"))"
   ]
  },
  {
   "cell_type": "code",
   "execution_count": 56,
   "id": "e26070db",
   "metadata": {},
   "outputs": [
    {
     "name": "stdout",
     "output_type": "stream",
     "text": [
      "WE ARE HERE TO LEARN PYTHON FROM IPCS\n"
     ]
    }
   ],
   "source": [
    "S=\"this is a close  on python \"\n",
    "print(s.upper())"
   ]
  },
  {
   "cell_type": "code",
   "execution_count": 58,
   "id": "6b6f3562",
   "metadata": {},
   "outputs": [
    {
     "name": "stdout",
     "output_type": "stream",
     "text": [
      "this is aclass on python\n"
     ]
    }
   ],
   "source": [
    "s=\"this is aclass on python\"\n",
    "print(s.lower())"
   ]
  },
  {
   "cell_type": "code",
   "execution_count": 60,
   "id": "15ddf761",
   "metadata": {},
   "outputs": [
    {
     "name": "stdout",
     "output_type": "stream",
     "text": [
      "This Is  A Class One Python\n"
     ]
    }
   ],
   "source": [
    "s=\"this is  a class one python\"\n",
    "print(s.title())"
   ]
  },
  {
   "cell_type": "code",
   "execution_count": 62,
   "id": "efa1e985",
   "metadata": {},
   "outputs": [
    {
     "name": "stdout",
     "output_type": "stream",
     "text": [
      "this is a class on anand\n"
     ]
    }
   ],
   "source": [
    "s=\"this is a class on python\"\n",
    "print(s.replace(\"python\",'anand'))"
   ]
  },
  {
   "cell_type": "code",
   "execution_count": 65,
   "id": "c9c84a29",
   "metadata": {},
   "outputs": [
    {
     "name": "stdout",
     "output_type": "stream",
     "text": [
      "4\n"
     ]
    }
   ],
   "source": [
    "s=\"this is a class on python\"\n",
    "print(s.count (\"s\"))"
   ]
  },
  {
   "cell_type": "code",
   "execution_count": 66,
   "id": "48745020",
   "metadata": {},
   "outputs": [
    {
     "name": "stdout",
     "output_type": "stream",
     "text": [
      "False\n"
     ]
    }
   ],
   "source": [
    "s=\"this is a class on python\"\n",
    "print(s.endswith(\"o\"))"
   ]
  },
  {
   "cell_type": "code",
   "execution_count": 68,
   "id": "83adc858",
   "metadata": {},
   "outputs": [
    {
     "name": "stdout",
     "output_type": "stream",
     "text": [
      "False\n"
     ]
    }
   ],
   "source": [
    "s=\"this is a class on python\"\n",
    "print(s.startswith(\"h\"))"
   ]
  },
  {
   "cell_type": "code",
   "execution_count": 69,
   "id": "9993251e",
   "metadata": {},
   "outputs": [
    {
     "name": "stdout",
     "output_type": "stream",
     "text": [
      "printing the string\n"
     ]
    }
   ],
   "source": [
    "s=\"we are here to learn python form IPCS\"\n",
    "print(\"printing the string\")"
   ]
  },
  {
   "cell_type": "code",
   "execution_count": 70,
   "id": "a4c11f6f",
   "metadata": {},
   "outputs": [
    {
     "name": "stdout",
     "output_type": "stream",
     "text": [
      "checking is alphabes\n"
     ]
    }
   ],
   "source": [
    "print(\"checking is alphabes\")"
   ]
  },
  {
   "cell_type": "code",
   "execution_count": 71,
   "id": "1cf4cabc",
   "metadata": {},
   "outputs": [
    {
     "name": "stdout",
     "output_type": "stream",
     "text": [
      "False\n"
     ]
    }
   ],
   "source": [
    "print(s.isalpha())"
   ]
  },
  {
   "cell_type": "code",
   "execution_count": 72,
   "id": "f3e64264",
   "metadata": {},
   "outputs": [
    {
     "name": "stdout",
     "output_type": "stream",
     "text": [
      "checking is alphabets\n"
     ]
    }
   ],
   "source": [
    "print(\"checking is alphabets\")"
   ]
  },
  {
   "cell_type": "code",
   "execution_count": 73,
   "id": "76c74240",
   "metadata": {},
   "outputs": [
    {
     "name": "stdout",
     "output_type": "stream",
     "text": [
      "have\n"
     ]
    }
   ],
   "source": [
    "print(s2)"
   ]
  },
  {
   "cell_type": "code",
   "execution_count": 74,
   "id": "cd53f020",
   "metadata": {},
   "outputs": [
    {
     "name": "stdout",
     "output_type": "stream",
     "text": [
      "checking is space\n"
     ]
    }
   ],
   "source": [
    "print(\"checking is space\")"
   ]
  },
  {
   "cell_type": "code",
   "execution_count": 75,
   "id": "88633e78",
   "metadata": {},
   "outputs": [
    {
     "name": "stdout",
     "output_type": "stream",
     "text": [
      "False\n"
     ]
    }
   ],
   "source": [
    "print(s2.isspace())"
   ]
  },
  {
   "cell_type": "code",
   "execution_count": 80,
   "id": "56322deb",
   "metadata": {},
   "outputs": [
    {
     "name": "stdout",
     "output_type": "stream",
     "text": [
      "checking is digit\n"
     ]
    }
   ],
   "source": [
    "s3=\"123\"\n",
    "print(\"checking is digit\")"
   ]
  },
  {
   "cell_type": "code",
   "execution_count": 81,
   "id": "f23bf77c",
   "metadata": {},
   "outputs": [
    {
     "name": "stdout",
     "output_type": "stream",
     "text": [
      "123\n"
     ]
    }
   ],
   "source": [
    "print(s3)"
   ]
  },
  {
   "cell_type": "code",
   "execution_count": 82,
   "id": "ad8c97f6",
   "metadata": {},
   "outputs": [
    {
     "name": "stdout",
     "output_type": "stream",
     "text": [
      "True\n"
     ]
    }
   ],
   "source": [
    "print(s3.isdigit())"
   ]
  },
  {
   "cell_type": "code",
   "execution_count": null,
   "id": "baeeac4a",
   "metadata": {},
   "outputs": [],
   "source": []
  },
  {
   "cell_type": "code",
   "execution_count": 84,
   "id": "fa6e0304",
   "metadata": {},
   "outputs": [
    {
     "name": "stdout",
     "output_type": "stream",
     "text": [
      "False\n"
     ]
    }
   ],
   "source": [
    "s4=\"IPCS\"\n",
    "print(s4.isdigit())"
   ]
  },
  {
   "cell_type": "code",
   "execution_count": 85,
   "id": "f73a17f6",
   "metadata": {},
   "outputs": [
    {
     "name": "stdout",
     "output_type": "stream",
     "text": [
      "True\n"
     ]
    }
   ],
   "source": [
    "print(s4.isupper())"
   ]
  },
  {
   "cell_type": "code",
   "execution_count": 86,
   "id": "9506b808",
   "metadata": {},
   "outputs": [
    {
     "name": "stdout",
     "output_type": "stream",
     "text": [
      "is lower case\n"
     ]
    }
   ],
   "source": [
    "s5=\"ipcs\"\n",
    "print(\"is lower case\")"
   ]
  },
  {
   "cell_type": "code",
   "execution_count": 87,
   "id": "c3f6eae2",
   "metadata": {},
   "outputs": [
    {
     "name": "stdout",
     "output_type": "stream",
     "text": [
      "ipcs\n"
     ]
    }
   ],
   "source": [
    "print(s5)"
   ]
  },
  {
   "cell_type": "code",
   "execution_count": 88,
   "id": "4e9bd1b0",
   "metadata": {},
   "outputs": [
    {
     "name": "stdout",
     "output_type": "stream",
     "text": [
      "True\n"
     ]
    }
   ],
   "source": [
    "print(s5.islower())"
   ]
  },
  {
   "cell_type": "code",
   "execution_count": 89,
   "id": "809703da",
   "metadata": {},
   "outputs": [
    {
     "name": "stdout",
     "output_type": "stream",
     "text": [
      "printing the string \n"
     ]
    }
   ],
   "source": [
    "s=\"anand rajak\"\n",
    "print(\"printing the string \")"
   ]
  },
  {
   "cell_type": "code",
   "execution_count": 90,
   "id": "4ef12234",
   "metadata": {},
   "outputs": [
    {
     "name": "stdout",
     "output_type": "stream",
     "text": [
      "anand rajak\n"
     ]
    }
   ],
   "source": [
    "print(s)"
   ]
  },
  {
   "cell_type": "code",
   "execution_count": 91,
   "id": "46071d33",
   "metadata": {},
   "outputs": [
    {
     "name": "stdout",
     "output_type": "stream",
     "text": [
      "first character\n"
     ]
    }
   ],
   "source": [
    "print(\"first character\")"
   ]
  },
  {
   "cell_type": "code",
   "execution_count": 93,
   "id": "4a2c22aa",
   "metadata": {},
   "outputs": [
    {
     "name": "stdout",
     "output_type": "stream",
     "text": [
      "a\n"
     ]
    }
   ],
   "source": [
    "print(s[0])"
   ]
  },
  {
   "cell_type": "code",
   "execution_count": 95,
   "id": "8bc159ca",
   "metadata": {},
   "outputs": [
    {
     "name": "stdout",
     "output_type": "stream",
     "text": [
      "anand\n"
     ]
    }
   ],
   "source": [
    "print(s[0:5])"
   ]
  },
  {
   "cell_type": "code",
   "execution_count": 96,
   "id": "48ad0020",
   "metadata": {},
   "outputs": [
    {
     "name": "stdout",
     "output_type": "stream",
     "text": [
      "rajak\n"
     ]
    }
   ],
   "source": [
    "print(s[6:11])"
   ]
  },
  {
   "cell_type": "code",
   "execution_count": 97,
   "id": "73529a88",
   "metadata": {},
   "outputs": [
    {
     "name": "stdout",
     "output_type": "stream",
     "text": [
      "k\n"
     ]
    }
   ],
   "source": [
    "print(s[-1])"
   ]
  },
  {
   "cell_type": "code",
   "execution_count": 98,
   "id": "628a1a74",
   "metadata": {},
   "outputs": [
    {
     "name": "stdout",
     "output_type": "stream",
     "text": [
      "anand\n"
     ]
    }
   ],
   "source": [
    "print(s[:5])"
   ]
  },
  {
   "cell_type": "code",
   "execution_count": 99,
   "id": "10bd08ba",
   "metadata": {},
   "outputs": [
    {
     "name": "stdout",
     "output_type": "stream",
     "text": [
      "and rajak\n"
     ]
    }
   ],
   "source": [
    "print(s[2:])"
   ]
  },
  {
   "cell_type": "code",
   "execution_count": 100,
   "id": "cbcac311",
   "metadata": {},
   "outputs": [
    {
     "name": "stdout",
     "output_type": "stream",
     "text": [
      "anand rajak\n"
     ]
    }
   ],
   "source": [
    "print(s)"
   ]
  },
  {
   "cell_type": "code",
   "execution_count": 101,
   "id": "c30011fd",
   "metadata": {},
   "outputs": [
    {
     "name": "stdout",
     "output_type": "stream",
     "text": [
      "aadrjk\n"
     ]
    }
   ],
   "source": [
    "print(s[: : 2])"
   ]
  },
  {
   "cell_type": "code",
   "execution_count": 102,
   "id": "6bff1a09",
   "metadata": {},
   "outputs": [
    {
     "name": "stdout",
     "output_type": "stream",
     "text": [
      "kjrdaa\n"
     ]
    }
   ],
   "source": [
    "print(s[: : -2])"
   ]
  },
  {
   "cell_type": "code",
   "execution_count": 103,
   "id": "8221bfe3",
   "metadata": {},
   "outputs": [
    {
     "name": "stdout",
     "output_type": "stream",
     "text": [
      "\n"
     ]
    }
   ],
   "source": [
    "print(s[-2:-10:+3])"
   ]
  },
  {
   "cell_type": "code",
   "execution_count": 104,
   "id": "6baa3e4b",
   "metadata": {},
   "outputs": [
    {
     "name": "stdout",
     "output_type": "stream",
     "text": [
      "a dog saybark!\n"
     ]
    }
   ],
   "source": [
    "var= \"bark\"\n",
    "print(f\"a dog say{var}!\")"
   ]
  },
  {
   "cell_type": "code",
   "execution_count": 107,
   "id": "66d39017",
   "metadata": {},
   "outputs": [
    {
     "name": "stdout",
     "output_type": "stream",
     "text": [
      "A dog says bark!\n"
     ]
    }
   ],
   "source": [
    "print(f\"A dog says {var}!\")"
   ]
  },
  {
   "cell_type": "code",
   "execution_count": 108,
   "id": "478e0b74",
   "metadata": {},
   "outputs": [
    {
     "name": "stdout",
     "output_type": "stream",
     "text": [
      "A dog says bark!\n"
     ]
    }
   ],
   "source": [
    "print (f'''A dog says {var}!''')"
   ]
  },
  {
   "cell_type": "code",
   "execution_count": 110,
   "id": "76817f85",
   "metadata": {},
   "outputs": [
    {
     "name": "stdout",
     "output_type": "stream",
     "text": [
      "a dog says bark\n"
     ]
    }
   ],
   "source": [
    "print(\"a dog says \"+var)"
   ]
  },
  {
   "cell_type": "code",
   "execution_count": 111,
   "id": "726988fa",
   "metadata": {},
   "outputs": [],
   "source": [
    "var = 1200\n"
   ]
  },
  {
   "cell_type": "code",
   "execution_count": 112,
   "id": "fad632be",
   "metadata": {},
   "outputs": [
    {
     "ename": "TypeError",
     "evalue": "can only concatenate str (not \"int\") to str",
     "output_type": "error",
     "traceback": [
      "\u001b[1;31m---------------------------------------------------------------------------\u001b[0m",
      "\u001b[1;31mTypeError\u001b[0m                                 Traceback (most recent call last)",
      "Cell \u001b[1;32mIn[112], line 1\u001b[0m\n\u001b[1;32m----> 1\u001b[0m \u001b[38;5;28mprint\u001b[39m(\u001b[38;5;124m\"\u001b[39m\u001b[38;5;124ma dog says \u001b[39m\u001b[38;5;124m\"\u001b[39m\u001b[38;5;241m+\u001b[39mvar)\n",
      "\u001b[1;31mTypeError\u001b[0m: can only concatenate str (not \"int\") to str"
     ]
    }
   ],
   "source": [
    "print(\"a dog says \"+var)"
   ]
  },
  {
   "cell_type": "code",
   "execution_count": 113,
   "id": "828e6494",
   "metadata": {},
   "outputs": [
    {
     "name": "stdout",
     "output_type": "stream",
     "text": [
      "A dog says 1200!\n"
     ]
    }
   ],
   "source": [
    "print(f\"A dog says {var}!\")"
   ]
  },
  {
   "cell_type": "code",
   "execution_count": 114,
   "id": "da39f83c",
   "metadata": {},
   "outputs": [
    {
     "ename": "SyntaxError",
     "evalue": "invalid syntax (3205320779.py, line 1)",
     "output_type": "error",
     "traceback": [
      "\u001b[1;36m  Cell \u001b[1;32mIn[114], line 1\u001b[1;36m\u001b[0m\n\u001b[1;33m    txt=\"we are the so called\"vikings\"from the north.\"\u001b[0m\n\u001b[1;37m                              ^\u001b[0m\n\u001b[1;31mSyntaxError\u001b[0m\u001b[1;31m:\u001b[0m invalid syntax\n"
     ]
    }
   ],
   "source": [
    "txt=\"we are the so called\"vikings\"from the north.\""
   ]
  },
  {
   "cell_type": "code",
   "execution_count": 115,
   "id": "11954b35",
   "metadata": {},
   "outputs": [
    {
     "ename": "NameError",
     "evalue": "name 'tnx' is not defined",
     "output_type": "error",
     "traceback": [
      "\u001b[1;31m---------------------------------------------------------------------------\u001b[0m",
      "\u001b[1;31mNameError\u001b[0m                                 Traceback (most recent call last)",
      "Cell \u001b[1;32mIn[115], line 1\u001b[0m\n\u001b[1;32m----> 1\u001b[0m \u001b[38;5;28mprint\u001b[39m(tnx)\n",
      "\u001b[1;31mNameError\u001b[0m: name 'tnx' is not defined"
     ]
    }
   ],
   "source": [
    "print(tnx)"
   ]
  },
  {
   "cell_type": "code",
   "execution_count": 116,
   "id": "518c57dc",
   "metadata": {},
   "outputs": [
    {
     "name": "stdout",
     "output_type": "stream",
     "text": [
      "we are the so called\"vikings\"from the north.\n"
     ]
    }
   ],
   "source": [
    "txt=\"we are the so called\\\"vikings\\\"from the north.\"\n",
    "print(txt)"
   ]
  },
  {
   "cell_type": "code",
   "execution_count": 117,
   "id": "bf5cd4cb",
   "metadata": {},
   "outputs": [
    {
     "name": "stdout",
     "output_type": "stream",
     "text": [
      "p\n"
     ]
    }
   ],
   "source": [
    "my_list=['p','r','o','b','e']\n",
    "# first team\n",
    "print(my_list[0])  #p"
   ]
  },
  {
   "cell_type": "code",
   "execution_count": 118,
   "id": "5702ed77",
   "metadata": {},
   "outputs": [
    {
     "name": "stdout",
     "output_type": "stream",
     "text": [
      "o\n"
     ]
    }
   ],
   "source": [
    "#third item \n",
    "print(my_list[2])"
   ]
  },
  {
   "cell_type": "code",
   "execution_count": 119,
   "id": "1ce0aeb6",
   "metadata": {},
   "outputs": [
    {
     "name": "stdout",
     "output_type": "stream",
     "text": [
      "e\n"
     ]
    }
   ],
   "source": [
    "#fifth item\n",
    "print(my_list[4])"
   ]
  },
  {
   "cell_type": "code",
   "execution_count": 120,
   "id": "3490cba4",
   "metadata": {},
   "outputs": [],
   "source": [
    "#nested list \n",
    "n_list=[\"happy\",[2,0,1,5]]"
   ]
  },
  {
   "cell_type": "code",
   "execution_count": 121,
   "id": "109772fb",
   "metadata": {},
   "outputs": [
    {
     "name": "stdout",
     "output_type": "stream",
     "text": [
      "happy\n"
     ]
    }
   ],
   "source": [
    "print(n_list[0])"
   ]
  },
  {
   "cell_type": "code",
   "execution_count": 122,
   "id": "0eab6a79",
   "metadata": {},
   "outputs": [
    {
     "name": "stdout",
     "output_type": "stream",
     "text": [
      "[2, 0, 1, 5]\n"
     ]
    }
   ],
   "source": [
    "print(n_list[1])"
   ]
  },
  {
   "cell_type": "code",
   "execution_count": 125,
   "id": "90254069",
   "metadata": {},
   "outputs": [
    {
     "name": "stdout",
     "output_type": "stream",
     "text": [
      "0\n"
     ]
    }
   ],
   "source": [
    "print(n_list[1][1])"
   ]
  },
  {
   "cell_type": "code",
   "execution_count": 127,
   "id": "b318f90a",
   "metadata": {},
   "outputs": [
    {
     "name": "stdout",
     "output_type": "stream",
     "text": [
      "5\n"
     ]
    }
   ],
   "source": [
    "print(n_list[1][3])"
   ]
  },
  {
   "cell_type": "code",
   "execution_count": 128,
   "id": "901c39ec",
   "metadata": {},
   "outputs": [
    {
     "ename": "TypeError",
     "evalue": "list indices must be integers or slices, not float",
     "output_type": "error",
     "traceback": [
      "\u001b[1;31m---------------------------------------------------------------------------\u001b[0m",
      "\u001b[1;31mTypeError\u001b[0m                                 Traceback (most recent call last)",
      "Cell \u001b[1;32mIn[128], line 2\u001b[0m\n\u001b[0;32m      1\u001b[0m \u001b[38;5;66;03m#error!only integer can be used for indexing\u001b[39;00m\n\u001b[1;32m----> 2\u001b[0m \u001b[38;5;28mprint\u001b[39m(my_list[\u001b[38;5;241m4.0\u001b[39m])\n",
      "\u001b[1;31mTypeError\u001b[0m: list indices must be integers or slices, not float"
     ]
    }
   ],
   "source": [
    "#error!only integer can be used for indexing\n",
    "print(my_list[4.0])"
   ]
  },
  {
   "cell_type": "code",
   "execution_count": 129,
   "id": "c2b88b53",
   "metadata": {},
   "outputs": [
    {
     "data": {
      "text/plain": [
       "['p', 'r', 'o', 'b', 'e']"
      ]
     },
     "execution_count": 129,
     "metadata": {},
     "output_type": "execute_result"
    }
   ],
   "source": [
    "my_list"
   ]
  },
  {
   "cell_type": "code",
   "execution_count": 130,
   "id": "847264af",
   "metadata": {},
   "outputs": [
    {
     "name": "stdout",
     "output_type": "stream",
     "text": [
      "e\n"
     ]
    }
   ],
   "source": [
    "print(my_list[-1])"
   ]
  },
  {
   "cell_type": "code",
   "execution_count": 131,
   "id": "bc90fdf5",
   "metadata": {},
   "outputs": [
    {
     "name": "stdout",
     "output_type": "stream",
     "text": [
      "p\n"
     ]
    }
   ],
   "source": [
    "print(my_list[-5])"
   ]
  },
  {
   "cell_type": "code",
   "execution_count": 132,
   "id": "703d19a2",
   "metadata": {},
   "outputs": [],
   "source": [
    "odd = [2,4,6,8]\n",
    "#change the first item \n",
    "odd[0]=1"
   ]
  },
  {
   "cell_type": "code",
   "execution_count": 133,
   "id": "72d0cb70",
   "metadata": {},
   "outputs": [
    {
     "name": "stdout",
     "output_type": "stream",
     "text": [
      "[1, 4, 6, 8]\n"
     ]
    }
   ],
   "source": [
    "print(odd)"
   ]
  },
  {
   "cell_type": "code",
   "execution_count": 135,
   "id": "5d72dcc3",
   "metadata": {},
   "outputs": [
    {
     "name": "stdout",
     "output_type": "stream",
     "text": [
      "[1, 3, 5, 7]\n"
     ]
    }
   ],
   "source": [
    "#change 2nd to 4th items\n",
    "odd[1:4]=[3,5,7]\n",
    "print(odd)"
   ]
  },
  {
   "cell_type": "code",
   "execution_count": 136,
   "id": "6232eb60",
   "metadata": {},
   "outputs": [
    {
     "name": "stdout",
     "output_type": "stream",
     "text": [
      "[1, 3, 5, 7]\n"
     ]
    }
   ],
   "source": [
    "#appending and extending lists is python\n",
    "odd=[1,3,5]\n",
    "odd.append(7)\n",
    "print(odd)"
   ]
  },
  {
   "cell_type": "code",
   "execution_count": 137,
   "id": "2c0a9b03",
   "metadata": {},
   "outputs": [
    {
     "name": "stdout",
     "output_type": "stream",
     "text": [
      "[1, 3, 5, 7, 9, 11, 13]\n"
     ]
    }
   ],
   "source": [
    "odd.extend([9,11,13])\n",
    "print(odd)"
   ]
  },
  {
   "cell_type": "code",
   "execution_count": 138,
   "id": "def1fa8f",
   "metadata": {},
   "outputs": [
    {
     "name": "stdout",
     "output_type": "stream",
     "text": [
      "['apple', 'orange', 'banana', 'cherry']\n"
     ]
    }
   ],
   "source": [
    "fruits=[\"apple\",\"banana\",\"cherry\"]\n",
    "fruits.insert(1,\"orange\")\n",
    "print(fruits)"
   ]
  },
  {
   "cell_type": "code",
   "execution_count": 139,
   "id": "c21c4d20",
   "metadata": {},
   "outputs": [
    {
     "name": "stdout",
     "output_type": "stream",
     "text": [
      "[100, 3, 112, 4, 56, 2, 54]\n"
     ]
    }
   ],
   "source": [
    "age=[100,3,112,4,56,2,54]\n",
    "print(age)"
   ]
  },
  {
   "cell_type": "code",
   "execution_count": 140,
   "id": "31f5e884",
   "metadata": {},
   "outputs": [
    {
     "name": "stdout",
     "output_type": "stream",
     "text": [
      "112\n"
     ]
    }
   ],
   "source": [
    "print(max(age))"
   ]
  },
  {
   "cell_type": "code",
   "execution_count": 141,
   "id": "ab7dc6a2",
   "metadata": {},
   "outputs": [],
   "source": [
    "age.sort()"
   ]
  },
  {
   "cell_type": "code",
   "execution_count": 143,
   "id": "0fa19120",
   "metadata": {},
   "outputs": [
    {
     "name": "stdout",
     "output_type": "stream",
     "text": [
      "[2, 3, 4, 54, 56, 100, 112]\n"
     ]
    }
   ],
   "source": [
    "print(age)"
   ]
  },
  {
   "cell_type": "code",
   "execution_count": 144,
   "id": "2e1d603d",
   "metadata": {},
   "outputs": [
    {
     "name": "stdout",
     "output_type": "stream",
     "text": [
      "[112, 100, 56, 54, 4, 3, 2]\n"
     ]
    }
   ],
   "source": [
    "age.sort(reverse=True)\n",
    "print(age)"
   ]
  },
  {
   "cell_type": "code",
   "execution_count": 145,
   "id": "fc306394",
   "metadata": {},
   "outputs": [
    {
     "name": "stdout",
     "output_type": "stream",
     "text": [
      "sum  is : 331\n"
     ]
    }
   ],
   "source": [
    "a=sum(age)\n",
    "print(f'sum  is :' ,a )"
   ]
  },
  {
   "cell_type": "code",
   "execution_count": 148,
   "id": "9314fe53",
   "metadata": {},
   "outputs": [
    {
     "name": "stdout",
     "output_type": "stream",
     "text": [
      "3\n"
     ]
    }
   ],
   "source": [
    "fruits=(\"apple\",\"mango\",'papaya',\"pineapple\",\"cherry\",\"mango\",'mango')\n",
    "print(fruits.count(\"mango\"))"
   ]
  },
  {
   "cell_type": "code",
   "execution_count": 149,
   "id": "30999ea4",
   "metadata": {},
   "outputs": [
    {
     "data": {
      "text/plain": [
       "7"
      ]
     },
     "execution_count": 149,
     "metadata": {},
     "output_type": "execute_result"
    }
   ],
   "source": [
    "len(fruits)"
   ]
  },
  {
   "cell_type": "code",
   "execution_count": 150,
   "id": "9dcd9280",
   "metadata": {},
   "outputs": [],
   "source": [
    "fruit=['apple','banana','grape','kiwi']\n"
   ]
  },
  {
   "cell_type": "code",
   "execution_count": 151,
   "id": "617f5464",
   "metadata": {},
   "outputs": [
    {
     "name": "stdout",
     "output_type": "stream",
     "text": [
      "('apple', 'banana', 'cherry')\n"
     ]
    }
   ],
   "source": [
    "thistuple=(\"apple\",\"banana\",\"cherry\")\n",
    "print(thistuple)"
   ]
  },
  {
   "cell_type": "code",
   "execution_count": 152,
   "id": "94d23dea",
   "metadata": {},
   "outputs": [
    {
     "data": {
      "text/plain": [
       "['banana', 'grape']"
      ]
     },
     "execution_count": 152,
     "metadata": {},
     "output_type": "execute_result"
    }
   ],
   "source": [
    "fruit[-3:-1]\n"
   ]
  },
  {
   "cell_type": "code",
   "execution_count": 154,
   "id": "cf571c92",
   "metadata": {},
   "outputs": [
    {
     "data": {
      "text/plain": [
       "['kiwi', 'grape']"
      ]
     },
     "execution_count": 154,
     "metadata": {},
     "output_type": "execute_result"
    }
   ],
   "source": [
    "fruit[-1:-3:-1]"
   ]
  },
  {
   "cell_type": "code",
   "execution_count": 155,
   "id": "af69c1d1",
   "metadata": {},
   "outputs": [],
   "source": [
    "x=(\"apple\",\"banana\")"
   ]
  },
  {
   "cell_type": "code",
   "execution_count": 156,
   "id": "e0218090",
   "metadata": {},
   "outputs": [
    {
     "data": {
      "text/plain": [
       "tuple"
      ]
     },
     "execution_count": 156,
     "metadata": {},
     "output_type": "execute_result"
    }
   ],
   "source": [
    "type(x)"
   ]
  },
  {
   "cell_type": "code",
   "execution_count": 157,
   "id": "cf500762",
   "metadata": {},
   "outputs": [
    {
     "ename": "TypeError",
     "evalue": "'tuple' object does not support item assignment",
     "output_type": "error",
     "traceback": [
      "\u001b[1;31m---------------------------------------------------------------------------\u001b[0m",
      "\u001b[1;31mTypeError\u001b[0m                                 Traceback (most recent call last)",
      "Cell \u001b[1;32mIn[157], line 1\u001b[0m\n\u001b[1;32m----> 1\u001b[0m x[\u001b[38;5;241m1\u001b[39m]\u001b[38;5;241m=\u001b[39m\u001b[38;5;124m\"\u001b[39m\u001b[38;5;124mkiwi\u001b[39m\u001b[38;5;124m\"\u001b[39m\n",
      "\u001b[1;31mTypeError\u001b[0m: 'tuple' object does not support item assignment"
     ]
    }
   ],
   "source": [
    "x[1]=\"kiwi\""
   ]
  },
  {
   "cell_type": "code",
   "execution_count": 158,
   "id": "b7f731b4",
   "metadata": {},
   "outputs": [],
   "source": [
    "y=list(x)"
   ]
  },
  {
   "cell_type": "code",
   "execution_count": 159,
   "id": "d4cfeb2e",
   "metadata": {},
   "outputs": [
    {
     "data": {
      "text/plain": [
       "list"
      ]
     },
     "execution_count": 159,
     "metadata": {},
     "output_type": "execute_result"
    }
   ],
   "source": [
    "type(y)"
   ]
  },
  {
   "cell_type": "code",
   "execution_count": 160,
   "id": "96d86334",
   "metadata": {},
   "outputs": [
    {
     "name": "stdout",
     "output_type": "stream",
     "text": [
      "['apple', 'banana']\n"
     ]
    }
   ],
   "source": [
    "\n",
    "print(y)"
   ]
  },
  {
   "cell_type": "code",
   "execution_count": 161,
   "id": "3df71057",
   "metadata": {},
   "outputs": [],
   "source": [
    "y[1]=\"kiwi\""
   ]
  },
  {
   "cell_type": "code",
   "execution_count": 162,
   "id": "36db5dc8",
   "metadata": {},
   "outputs": [
    {
     "name": "stdout",
     "output_type": "stream",
     "text": [
      "['apple', 'kiwi']\n"
     ]
    }
   ],
   "source": [
    "\n",
    "print(y)"
   ]
  },
  {
   "cell_type": "code",
   "execution_count": 163,
   "id": "e50da4fb",
   "metadata": {},
   "outputs": [],
   "source": [
    "x=tuple(y)"
   ]
  },
  {
   "cell_type": "code",
   "execution_count": 164,
   "id": "268fe582",
   "metadata": {},
   "outputs": [
    {
     "name": "stdout",
     "output_type": "stream",
     "text": [
      "('apple', 'kiwi')\n"
     ]
    }
   ],
   "source": [
    "print(x)"
   ]
  },
  {
   "cell_type": "code",
   "execution_count": 165,
   "id": "f2a7681f",
   "metadata": {},
   "outputs": [
    {
     "data": {
      "text/plain": [
       "tuple"
      ]
     },
     "execution_count": 165,
     "metadata": {},
     "output_type": "execute_result"
    }
   ],
   "source": [
    "type(x)"
   ]
  },
  {
   "cell_type": "code",
   "execution_count": 166,
   "id": "901facfc",
   "metadata": {},
   "outputs": [
    {
     "name": "stdout",
     "output_type": "stream",
     "text": [
      "{'mango', 'grapes', 'apple'}\n"
     ]
    }
   ],
   "source": [
    "fruits={'apple','mango','grapes'}\n",
    "print(fruits)"
   ]
  },
  {
   "cell_type": "code",
   "execution_count": 168,
   "id": "195c0c99",
   "metadata": {},
   "outputs": [
    {
     "name": "stdout",
     "output_type": "stream",
     "text": [
      "{'mango', 'grapes', 'banana', 'apple'}\n"
     ]
    }
   ],
   "source": [
    "fruits.add('banana')\n",
    "print(fruits)"
   ]
  },
  {
   "cell_type": "code",
   "execution_count": 169,
   "id": "f6e7a8b3",
   "metadata": {},
   "outputs": [
    {
     "name": "stdout",
     "output_type": "stream",
     "text": [
      "{'mango', 'k', 'w', 'i', 'grapes', 'banana', 'apple'}\n"
     ]
    }
   ],
   "source": [
    "fruits.update('kiwi')\n",
    "print(fruits)"
   ]
  },
  {
   "cell_type": "code",
   "execution_count": 170,
   "id": "e3bef229",
   "metadata": {},
   "outputs": [
    {
     "name": "stdout",
     "output_type": "stream",
     "text": [
      "{'mango', 'grapes', 'banana', 'apple', 'kiwi'}\n"
     ]
    }
   ],
   "source": [
    "fruits ={'apple','mango','grapes','banana','kiwi'}\n",
    "print(fruits)"
   ]
  },
  {
   "cell_type": "code",
   "execution_count": 171,
   "id": "018f26a6",
   "metadata": {},
   "outputs": [],
   "source": [
    "fruits.discard('apple')\n"
   ]
  },
  {
   "cell_type": "code",
   "execution_count": 172,
   "id": "e8c2518b",
   "metadata": {},
   "outputs": [
    {
     "name": "stdout",
     "output_type": "stream",
     "text": [
      "{'mango', 'grapes', 'banana', 'kiwi'}\n"
     ]
    }
   ],
   "source": [
    "print(fruits)"
   ]
  },
  {
   "cell_type": "code",
   "execution_count": 173,
   "id": "af6fcd6d",
   "metadata": {},
   "outputs": [],
   "source": [
    "fruits.remove('grapes')\n"
   ]
  },
  {
   "cell_type": "code",
   "execution_count": 175,
   "id": "bec188bd",
   "metadata": {},
   "outputs": [
    {
     "name": "stdout",
     "output_type": "stream",
     "text": [
      "{'mango', 'banana', 'kiwi'}\n"
     ]
    }
   ],
   "source": [
    "print(fruits)"
   ]
  },
  {
   "cell_type": "code",
   "execution_count": 176,
   "id": "d9fd1c7f",
   "metadata": {},
   "outputs": [],
   "source": [
    "fruits.discard('apple')"
   ]
  },
  {
   "cell_type": "code",
   "execution_count": 177,
   "id": "fe23680e",
   "metadata": {},
   "outputs": [
    {
     "ename": "KeyError",
     "evalue": "'apple'",
     "output_type": "error",
     "traceback": [
      "\u001b[1;31m---------------------------------------------------------------------------\u001b[0m",
      "\u001b[1;31mKeyError\u001b[0m                                  Traceback (most recent call last)",
      "Cell \u001b[1;32mIn[177], line 1\u001b[0m\n\u001b[1;32m----> 1\u001b[0m fruits\u001b[38;5;241m.\u001b[39mremove(\u001b[38;5;124m'\u001b[39m\u001b[38;5;124mapple\u001b[39m\u001b[38;5;124m'\u001b[39m)\n",
      "\u001b[1;31mKeyError\u001b[0m: 'apple'"
     ]
    }
   ],
   "source": [
    "fruits.remove('apple')"
   ]
  },
  {
   "cell_type": "code",
   "execution_count": 178,
   "id": "0f23e9c3",
   "metadata": {},
   "outputs": [
    {
     "data": {
      "text/plain": [
       "'mango'"
      ]
     },
     "execution_count": 178,
     "metadata": {},
     "output_type": "execute_result"
    }
   ],
   "source": [
    "fruits.pop()"
   ]
  },
  {
   "cell_type": "code",
   "execution_count": 179,
   "id": "c84617e9",
   "metadata": {},
   "outputs": [
    {
     "name": "stdout",
     "output_type": "stream",
     "text": [
      "{1, 2, 3, 4, 5, 6}\n"
     ]
    }
   ],
   "source": [
    "my_set={1,2,3,4}\n",
    "my_set_2={3,4,5,6}\n",
    "print(my_set.union(my_set_2))"
   ]
  },
  {
   "cell_type": "code",
   "execution_count": 180,
   "id": "dc7b2673",
   "metadata": {},
   "outputs": [
    {
     "name": "stdout",
     "output_type": "stream",
     "text": [
      "{3, 4}\n"
     ]
    }
   ],
   "source": [
    "print(my_set.intersection(my_set_2))"
   ]
  },
  {
   "cell_type": "code",
   "execution_count": 181,
   "id": "5cc71cbb",
   "metadata": {},
   "outputs": [
    {
     "name": "stdout",
     "output_type": "stream",
     "text": [
      "{1, 2}\n"
     ]
    }
   ],
   "source": [
    "print(my_set.difference(my_set_2))"
   ]
  },
  {
   "cell_type": "code",
   "execution_count": 184,
   "id": "c76734d5",
   "metadata": {},
   "outputs": [
    {
     "name": "stdout",
     "output_type": "stream",
     "text": [
      "{1, 2, 5, 6}\n"
     ]
    }
   ],
   "source": [
    "print(my_set.symmetric_difference(my_set_2))"
   ]
  },
  {
   "cell_type": "code",
   "execution_count": 185,
   "id": "995c4470",
   "metadata": {},
   "outputs": [
    {
     "data": {
      "text/plain": [
       "True"
      ]
     },
     "execution_count": 185,
     "metadata": {},
     "output_type": "execute_result"
    }
   ],
   "source": [
    "a={4,5}\n",
    "b={1,2,3,4,5}\n",
    "a.issubset(b)"
   ]
  },
  {
   "cell_type": "code",
   "execution_count": 186,
   "id": "9b7d64cb",
   "metadata": {},
   "outputs": [
    {
     "data": {
      "text/plain": [
       "False"
      ]
     },
     "execution_count": 186,
     "metadata": {},
     "output_type": "execute_result"
    }
   ],
   "source": [
    "b.issubset(a)"
   ]
  },
  {
   "cell_type": "code",
   "execution_count": 187,
   "id": "2be88dbf",
   "metadata": {},
   "outputs": [
    {
     "data": {
      "text/plain": [
       "True"
      ]
     },
     "execution_count": 187,
     "metadata": {},
     "output_type": "execute_result"
    }
   ],
   "source": [
    "a.issubset(b)"
   ]
  },
  {
   "cell_type": "code",
   "execution_count": null,
   "id": "032e3dde",
   "metadata": {},
   "outputs": [],
   "source": [
    "a={'a','b'}"
   ]
  }
 ],
 "metadata": {
  "kernelspec": {
   "display_name": "Python 3 (ipykernel)",
   "language": "python",
   "name": "python3"
  },
  "language_info": {
   "codemirror_mode": {
    "name": "ipython",
    "version": 3
   },
   "file_extension": ".py",
   "mimetype": "text/x-python",
   "name": "python",
   "nbconvert_exporter": "python",
   "pygments_lexer": "ipython3",
   "version": "3.11.5"
  }
 },
 "nbformat": 4,
 "nbformat_minor": 5
}
